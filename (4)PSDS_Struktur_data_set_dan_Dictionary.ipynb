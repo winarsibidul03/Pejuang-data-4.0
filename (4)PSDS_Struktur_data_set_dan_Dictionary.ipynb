{
  "nbformat": 4,
  "nbformat_minor": 0,
  "metadata": {
    "colab": {
      "provenance": [],
      "authorship_tag": "ABX9TyO6DdCkEbPwJXfQUPy7DIfG",
      "include_colab_link": true
    },
    "kernelspec": {
      "name": "python3",
      "display_name": "Python 3"
    },
    "language_info": {
      "name": "python"
    }
  },
  "cells": [
    {
      "cell_type": "markdown",
      "metadata": {
        "id": "view-in-github",
        "colab_type": "text"
      },
      "source": [
        "<a href=\"https://colab.research.google.com/github/winarsibidul03/Pejuang-data-4.0/blob/main/(4)PSDS_Struktur_data_set_dan_Dictionary.ipynb\" target=\"_parent\"><img src=\"https://colab.research.google.com/assets/colab-badge.svg\" alt=\"Open In Colab\"/></a>"
      ]
    },
    {
      "cell_type": "markdown",
      "source": [
        "**NAMA : WINARSI J. BIDUL**\n",
        "\n",
        "**NIM : 2000015011**\n",
        "\n",
        "**KELAS DASAR**"
      ],
      "metadata": {
        "id": "13uI1-7qMiuM"
      }
    },
    {
      "cell_type": "markdown",
      "source": [
        "#Set"
      ],
      "metadata": {
        "id": "rsCu_pEaMpmb"
      }
    },
    {
      "cell_type": "markdown",
      "source": [
        "Set adalah kumpulan item yang bersifat unik dan tanpa urutan (Unordered Collection). Didefinisikan dengan kurawal dan elemennya dipisahkan dengan koma. Pada set kita dapat melakukan union dan intersection, sekaligus otomatis melakukan penghapusan data duplikat."
      ],
      "metadata": {
        "id": "fw74Yo7hMrsy"
      }
    },
    {
      "cell_type": "code",
      "source": [
        "#Contoh Set\n",
        "S1 = {1, \"dua\", True, 2+3j}\n",
        "\n",
        "print(type(S1))"
      ],
      "metadata": {
        "id": "GkR7RI8YMtFT",
        "colab": {
          "base_uri": "https://localhost:8080/"
        },
        "outputId": "1c1d608d-c134-4692-ade6-48e760967337"
      },
      "execution_count": 2,
      "outputs": [
        {
          "output_type": "stream",
          "name": "stdout",
          "text": [
            "<class 'set'>\n"
          ]
        }
      ]
    },
    {
      "cell_type": "markdown",
      "source": [
        "##Sifat sifat Set"
      ],
      "metadata": {
        "id": "Bn45ISDcM01K"
      }
    },
    {
      "cell_type": "code",
      "source": [
        "#Sifat sifat Set\n",
        "#1. Tidak Terurut/Unordered\n",
        "print(\"Memanggil  Set S1 dengan indeks urutan:\", S1[0:3])"
      ],
      "metadata": {
        "id": "JR0TsFFBL0R0"
      },
      "execution_count": null,
      "outputs": []
    },
    {
      "cell_type": "code",
      "source": [
        "#2. Tidak bisa diganti /Immutablel\n",
        "S1[1] = 2\n",
        "print(\"Set S1 setelah diganti elemennya:\", S1)"
      ],
      "metadata": {
        "id": "IWC6gqHIM8Az"
      },
      "execution_count": null,
      "outputs": []
    },
    {
      "cell_type": "code",
      "source": [
        "S1 = {1, \"dua\", True, 2+3J}\n",
        "\n",
        "#3. Dapat diindeks / Slicing\n",
        "print(\"Slicing Set S1:\", S1[3])"
      ],
      "metadata": {
        "id": "NOjNQ3IuNFbZ"
      },
      "execution_count": null,
      "outputs": []
    },
    {
      "cell_type": "code",
      "source": [
        "#4. Dapat diijinkan Duplikasi\n",
        "S1 = {1, \"dua\", True, True, 2+3j, 2+3j}\n",
        "print(\"Duplikasi pada Set S1:\", S1)"
      ],
      "metadata": {
        "id": "vEvZTIGaNLDt"
      },
      "execution_count": null,
      "outputs": []
    },
    {
      "cell_type": "markdown",
      "source": [
        "##Latihan"
      ],
      "metadata": {
        "id": "UckH2UUpNNAS"
      }
    },
    {
      "cell_type": "code",
      "source": [
        "#Buatlah struktur data setmu sendiri\n",
        "\n",
        "A1 = {3, \"empat\", True, 20+2j}\n",
        "print(type(A1))"
      ],
      "metadata": {
        "colab": {
          "base_uri": "https://localhost:8080/"
        },
        "id": "5EjBFgyMNPre",
        "outputId": "3a6dad5f-7c76-4a3c-9f66-ff079fd2447d"
      },
      "execution_count": null,
      "outputs": [
        {
          "output_type": "stream",
          "name": "stdout",
          "text": [
            "<class 'set'>\n"
          ]
        }
      ]
    },
    {
      "cell_type": "markdown",
      "source": [
        "#Dictionary"
      ],
      "metadata": {
        "id": "iNdb1BN1Neft"
      }
    },
    {
      "cell_type": "markdown",
      "source": [
        "Dictionary pada phyton adalah kumpulan pasangan kunci-nilai (pair of key-value) yang bersifat tidak berurutan. Dictionary dapat digunakan untuk menyimpan data kecil hingga besar. Untuk mengakses datanya, kita harus mengetahui kuncinya (key). Pada Phyton, dictionary didefinisikan dengan kurawal dan tambahan definisi berikut :\n",
        "*   Setiap elemen pair key-value dipisahkan  denga koma(').\n",
        "*   Key dan Value dipisahkan dengan titik dua (:).\n",
        "*   Key dan Value dapat berupa tipe variabel/obyek apapun.\n",
        "\n"
      ],
      "metadata": {
        "id": "2WW2Jpi0Njq1"
      }
    },
    {
      "cell_type": "code",
      "source": [
        "L1 = [1,'dua',True,(2+3j),(2+3j)]\n",
        "L1"
      ],
      "metadata": {
        "colab": {
          "base_uri": "https://localhost:8080/"
        },
        "id": "2ODSGSvxNoSV",
        "outputId": "1737518c-643d-43d1-e24a-36ef94dedcfc"
      },
      "execution_count": null,
      "outputs": [
        {
          "output_type": "execute_result",
          "data": {
            "text/plain": [
              "[1, 'dua', True, (2+3j), (2+3j)]"
            ]
          },
          "metadata": {},
          "execution_count": 10
        }
      ]
    },
    {
      "cell_type": "code",
      "source": [
        "#Contoh Dictionary\n",
        "D1 = {1:'value','key':2}\n",
        "\n",
        "print (D1)"
      ],
      "metadata": {
        "colab": {
          "base_uri": "https://localhost:8080/"
        },
        "id": "PWzuHjLVNsmu",
        "outputId": "9d346abf-42db-4f5f-eaed-5d8a353a4324"
      },
      "execution_count": null,
      "outputs": [
        {
          "output_type": "stream",
          "name": "stdout",
          "text": [
            "{1: 'value', 'key': 2}\n"
          ]
        }
      ]
    },
    {
      "cell_type": "markdown",
      "source": [
        "##Latihan "
      ],
      "metadata": {
        "id": "3brk0p8rNwNi"
      }
    },
    {
      "cell_type": "code",
      "source": [
        "#Buatlah Struktur data dictionary kalian sendiri\n",
        "A1 = {3:'nilai','kunci':4}\n",
        "\n",
        "print (A1)"
      ],
      "metadata": {
        "colab": {
          "base_uri": "https://localhost:8080/"
        },
        "id": "oiLu_yCTNyeW",
        "outputId": "f5ffc50e-d9f7-418a-847f-aba14815d6e2"
      },
      "execution_count": null,
      "outputs": [
        {
          "output_type": "stream",
          "name": "stdout",
          "text": [
            "{3: 'nilai', 'kunci': 4}\n"
          ]
        }
      ]
    },
    {
      "cell_type": "code",
      "source": [
        "L1[0]"
      ],
      "metadata": {
        "colab": {
          "base_uri": "https://localhost:8080/"
        },
        "id": "ZJ8kudDbN3F7",
        "outputId": "d0e7ee50-0477-4974-d859-8ea9eb4dabca"
      },
      "execution_count": null,
      "outputs": [
        {
          "output_type": "execute_result",
          "data": {
            "text/plain": [
              "1"
            ]
          },
          "metadata": {},
          "execution_count": 5
        }
      ]
    },
    {
      "cell_type": "code",
      "source": [
        "D1['key']"
      ],
      "metadata": {
        "colab": {
          "base_uri": "https://localhost:8080/"
        },
        "id": "IA25kL2-N5XD",
        "outputId": "dd1486a8-ca2d-452b-a6d8-ceea3aff0dc6"
      },
      "execution_count": null,
      "outputs": [
        {
          "output_type": "execute_result",
          "data": {
            "text/plain": [
              "2"
            ]
          },
          "metadata": {},
          "execution_count": 6
        }
      ]
    },
    {
      "cell_type": "code",
      "source": [
        "#Memanggil elemen berdasarkan key\n",
        "print(\"D1['key'] = \", D1['key']);"
      ],
      "metadata": {
        "colab": {
          "base_uri": "https://localhost:8080/"
        },
        "id": "Z0gbLh-EN78j",
        "outputId": "e2dacee3-582c-47da-b907-eeec6d18039d"
      },
      "execution_count": null,
      "outputs": [
        {
          "output_type": "stream",
          "name": "stdout",
          "text": [
            "D1['key'] =  2\n"
          ]
        }
      ]
    },
    {
      "cell_type": "markdown",
      "source": [
        "Dictionary bukan termasuk dalam elementasi urutan (sequence) sehingga bisa dipanggil  dengan urutan indeks . Misalnya dalam conoth berikut dicoba dengan indeks 2, tetapi menghasilkan eror (Keyeror) karena tidak ada  kunci (key)2: "
      ],
      "metadata": {
        "id": "EwBu4kMdOAiy"
      }
    },
    {
      "cell_type": "code",
      "source": [
        "#Nyobain error\n",
        "print(\"D1[2] = \", D1[2]);"
      ],
      "metadata": {
        "colab": {
          "base_uri": "https://localhost:8080/",
          "height": 183
        },
        "id": "0eqGiHMbOCB0",
        "outputId": "74c716d2-e0d4-4be9-dac7-2da3fe3f441d"
      },
      "execution_count": null,
      "outputs": [
        {
          "output_type": "error",
          "ename": "KeyError",
          "evalue": "ignored",
          "traceback": [
            "\u001b[0;31m---------------------------------------------------------------------------\u001b[0m",
            "\u001b[0;31mKeyError\u001b[0m                                  Traceback (most recent call last)",
            "\u001b[0;32m<ipython-input-8-89fc6cbc4dcb>\u001b[0m in \u001b[0;36m<module>\u001b[0;34m\u001b[0m\n\u001b[1;32m      1\u001b[0m \u001b[0;31m#Nyobain error\u001b[0m\u001b[0;34m\u001b[0m\u001b[0;34m\u001b[0m\u001b[0;34m\u001b[0m\u001b[0m\n\u001b[0;32m----> 2\u001b[0;31m \u001b[0mprint\u001b[0m\u001b[0;34m(\u001b[0m\u001b[0;34m\"D1[2] = \"\u001b[0m\u001b[0;34m,\u001b[0m \u001b[0mD1\u001b[0m\u001b[0;34m[\u001b[0m\u001b[0;36m2\u001b[0m\u001b[0;34m]\u001b[0m\u001b[0;34m)\u001b[0m\u001b[0;34m;\u001b[0m\u001b[0;34m\u001b[0m\u001b[0;34m\u001b[0m\u001b[0m\n\u001b[0m",
            "\u001b[0;31mKeyError\u001b[0m: 2"
          ]
        }
      ]
    },
    {
      "cell_type": "markdown",
      "source": [
        "##Latihan"
      ],
      "metadata": {
        "id": "bZtpSBWGOIto"
      }
    },
    {
      "cell_type": "code",
      "source": [
        "#Panggil salaah satu key dan value pada dictionary yang kalian buat\n",
        "print(\"A1['kunci'] = \", A1['kunci']);"
      ],
      "metadata": {
        "colab": {
          "base_uri": "https://localhost:8080/"
        },
        "id": "TuWy7vEdOKsU",
        "outputId": "7ff62710-7085-4395-b709-95527d2e9054"
      },
      "execution_count": null,
      "outputs": [
        {
          "output_type": "stream",
          "name": "stdout",
          "text": [
            "A1['kunci'] =  4\n"
          ]
        }
      ]
    }
  ]
}