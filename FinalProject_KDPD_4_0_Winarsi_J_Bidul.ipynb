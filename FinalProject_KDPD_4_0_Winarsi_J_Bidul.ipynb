{
  "cells": [
    {
      "cell_type": "markdown",
      "metadata": {
        "id": "view-in-github",
        "colab_type": "text"
      },
      "source": [
        "<a href=\"https://colab.research.google.com/github/winarsibidul03/Pejuang-data-4.0/blob/main/FinalProject_KDPD_4_0_Winarsi_J_Bidul.ipynb\" target=\"_parent\"><img src=\"https://colab.research.google.com/assets/colab-badge.svg\" alt=\"Open In Colab\"/></a>"
      ]
    },
    {
      "cell_type": "markdown",
      "id": "07687d6b-5e4d-4a93-bd71-d45b8ae72582",
      "metadata": {
        "id": "07687d6b-5e4d-4a93-bd71-d45b8ae72582"
      },
      "source": [
        "# Biodata Pemilik Notebook"
      ]
    },
    {
      "cell_type": "markdown",
      "id": "b31edc20-60fe-4ac2-b266-5dd585133e6a",
      "metadata": {
        "id": "b31edc20-60fe-4ac2-b266-5dd585133e6a"
      },
      "source": [
        "```\n",
        "Nama  : Winarsi J. Bidul\n",
        "NIM   : 2000015011\n",
        "PD    : 4.0\n",
        "Kelas : Dasar\n",
        "email : winarsi2000015011@webmail.uad.ac.id\n",
        "```"
      ]
    },
    {
      "cell_type": "markdown",
      "id": "dcc20efa-b78b-46a3-970b-9b93da5c00d7",
      "metadata": {
        "id": "dcc20efa-b78b-46a3-970b-9b93da5c00d7"
      },
      "source": [
        "## Pernyataan"
      ]
    },
    {
      "cell_type": "markdown",
      "id": "921fb471-c9e1-4a56-9827-cdc8453e84f4",
      "metadata": {
        "id": "921fb471-c9e1-4a56-9827-cdc8453e84f4"
      },
      "source": [
        "Dengan ini saya menyatakan bahwa `Final Project Kelas Dasar 4.0` dikerjakan oleh saya sendiri tanpa ada bantuan dari orang lain."
      ]
    },
    {
      "cell_type": "markdown",
      "id": "7b41de10-9116-43b0-abd1-77bf239690f0",
      "metadata": {
        "id": "7b41de10-9116-43b0-abd1-77bf239690f0"
      },
      "source": [
        "# Soal 1"
      ]
    },
    {
      "cell_type": "markdown",
      "id": "8f120053-9f03-4b9d-bca7-081f00b8ebd6",
      "metadata": {
        "id": "8f120053-9f03-4b9d-bca7-081f00b8ebd6"
      },
      "source": [
        "Buatlah dua list dan diberi nama `Nama` dan `NIM`. Datanya sebagai berikut."
      ]
    },
    {
      "cell_type": "markdown",
      "id": "473b8f78-b25c-44d1-8863-79126e55e323",
      "metadata": {
        "id": "473b8f78-b25c-44d1-8863-79126e55e323"
      },
      "source": [
        "|Nama|NIM|\n",
        "|---|---|\n",
        "|||\n",
        "|Wisnu Catur Rachmad tulloh |2100015049|\n",
        "|Sindy Mei Marantika|2100015041|\n",
        "|Zakiah Intan Maula\t|2100015043|\n",
        "|Januar Nur Rasyid\t|2100015006|\n",
        "|Lisa Nessa Safitri\t|2100015037|\n",
        "|Hasan Darmawan\t|2215015035|\n",
        "|SAIFUL ANDIKA\t|2100015051|\n",
        "|Maya Isafa Sam Saputri| \t2200015023|\n",
        "|Didi Cahyadi\t|2200015012|\n",
        "|Izza Anggitha Aryanawa| \t2200015032|\n",
        "|Khusnul Khotimah\t|2100015009|\n",
        "|Badzliana Aqmar Suris \t|2100015016|\n",
        "|Anggit Larasati\t|2100015036|\n",
        "|Sona Regina Salsabila\t|2100015053|\n",
        "|LELY AMALIA SAPUTRI\t|2100015050|\n",
        "|Nastasya Dewi\t|2100015010|\n",
        "|Ragita Anillya Putri Prasetianto|\t2100015002|\n",
        "|Muhammad Fatah Hidayat\t|2200015002|\n",
        "|Dwi Agustia\t|2000015016|\n",
        "|Nia Andriani Laila\t|2000015002|\n",
        "|Winarsi J. Bidul\t|2000015011|\n",
        "|Heru Pranoto\t|2211015008|\n",
        "|Reynaldi Ikbar Surya Andhika| \t2200015007|\n",
        "|Muhammad Rafiq Amrullah|\t2200015028|\n",
        "|Muhammad Mujahid Al-makky\t|2200015006|\n",
        "|Fauzi Ramadhan\t|2000015018|\n",
        "|Vinna Rahmasari|\t2000015023|\n",
        "|Shintia Yulita Sari|\t1900015057|\n",
        "|Maretta Mia Audina|\t2200015010|\n",
        "|Salma Aulia Imama \t|2200015009|\n",
        "|Dhea Emma Karniasari \t|2200015024|\n",
        "|Khoirun Nisya|\t2200015033|\n",
        "|PUSPITA AMBARWATI|\t2000015022|"
      ]
    },
    {
      "cell_type": "code",
      "execution_count": 82,
      "id": "df238137-68f3-416b-a56c-a61bddd7521e",
      "metadata": {
        "id": "df238137-68f3-416b-a56c-a61bddd7521e",
        "colab": {
          "base_uri": "https://localhost:8080/"
        },
        "outputId": "c1088670-2202-49aa-9b68-e2887a4b095b"
      },
      "outputs": [
        {
          "output_type": "stream",
          "name": "stdout",
          "text": [
            "<class 'list'>\n",
            "<class 'list'>\n",
            "['Wisnu Catur Rachmad tulloh', 'Sindy Mei Marantika', 'Zakiah Intan Maula', 'Januar Nur Rasyid', 'Lisa Nessa Safitri', 'Hasan Darmawan\\t', 'SAIFUL ANDIKA', 'Maya Isafa Sam Saputri\\t', 'Didi Cahyadi', 'Izza Anggitha Aryanawa', 'Khusnul Khotimah', 'Badzliana Aqmar Suris', 'Anggit Larasati\\t', 'Sona Regina Salsabila', 'LELY AMALIA SAPUTRI', 'Nastasya Dewi', 'Ragita Anillya Putri Prasetianto', 'Muhammad Fatah Hidayat', 'Dwi Agustia', 'Nia Andriani Laila\\t', 'Winarsi J. Bidul', 'Heru Pranoto', 'Reynaldi Ikbar Surya Andhika', 'Muhammad Rafiq Amrullah', 'Muhammad Mujahid Al-makky', 'Fauzi Ramadhan', 'Vinna Rahmasari', 'Shintia Yulita Sari', 'Maretta Mia Audina', 'Salma Aulia Imama', 'Dhea Emma Karniasari', 'Khoirun Nisya', 'PUSPITA AMBARWATI']\n",
            "[2100015049, 2100015041, 2100015043, 2100015006, 2100015037, 2215015035, 2100015051, 2200015023, 2200015012, 2200015032, 2100015009, 2100015016, 2100015036, 2100015053, 2100015050, 2100015010, 2100015002, 2200015002, 2000015016, 2000015002, 2000015011, 2211015008, 2200015007, 2200015028, 2200015006, 2000015018, 2000015023, 1900015057, 2200015010, 2200015009, 2200015024, 2200015033, 2000015022]\n"
          ]
        }
      ],
      "source": [
        "Nama = ['Wisnu Catur Rachmad tulloh','Sindy Mei Marantika','Zakiah Intan Maula','Januar Nur Rasyid','Lisa Nessa Safitri','Hasan Darmawan\t',\n",
        "        'SAIFUL ANDIKA','Maya Isafa Sam Saputri\t','Didi Cahyadi','Izza Anggitha Aryanawa','Khusnul Khotimah','Badzliana Aqmar Suris','Anggit Larasati\t',\n",
        "        'Sona Regina Salsabila','LELY AMALIA SAPUTRI','Nastasya Dewi','Ragita Anillya Putri Prasetianto','Muhammad Fatah Hidayat','Dwi Agustia','Nia Andriani Laila\t',\n",
        "         'Winarsi J. Bidul','Heru Pranoto','Reynaldi Ikbar Surya Andhika','Muhammad Rafiq Amrullah','Muhammad Mujahid Al-makky','Fauzi Ramadhan',\n",
        "        'Vinna Rahmasari','Shintia Yulita Sari','Maretta Mia Audina','Salma Aulia Imama','Dhea Emma Karniasari','Khoirun Nisya','PUSPITA AMBARWATI']\n",
        "NIM = [2100015049,2100015041,2100015043,2100015006,2100015037,2215015035,2100015051,2200015023,2200015012,2200015032,2100015009,\n",
        "       2100015016,2100015036,2100015053,2100015050,2100015010,2100015002,2200015002,2000015016,2000015002,2000015011,2211015008,\n",
        "       2200015007,2200015028,2200015006,2000015018,2000015023,1900015057,2200015010,2200015009,2200015024,2200015033,2000015022]\n",
        "\n",
        "print(type(Nama))\n",
        "print(type(NIM))\n",
        "print(Nama)\n",
        "print(NIM)"
      ]
    },
    {
      "cell_type": "markdown",
      "id": "0c566036-6a11-40ef-838e-82ce905e1ee7",
      "metadata": {
        "id": "0c566036-6a11-40ef-838e-82ce905e1ee7"
      },
      "source": [
        "# Soal 2"
      ]
    },
    {
      "cell_type": "markdown",
      "id": "125ff3c2-02f9-404b-adfe-430377778b9a",
      "metadata": {
        "id": "125ff3c2-02f9-404b-adfe-430377778b9a"
      },
      "source": [
        "Selanjutnya dari data diatas buatlah sebuah variabel `Angkatan` yang diperoleh dengan melakukan perulangan dan if statment pada variabel `NIM`."
      ]
    },
    {
      "cell_type": "code",
      "source": [
        "Angkatan = []\n",
        "for nim in NIM:\n",
        "  if nim <= 2000000000: \n",
        "    Angkatan.append('2019')\n",
        "  elif nim <= 2100000000: \n",
        "    Angkatan.append('2020')\n",
        "  elif nim <= 2200000000: \n",
        "    Angkatan.append('2021')\n",
        "  else :\n",
        "    Angkatan.append('2022')\n",
        "print(Angkatan)"
      ],
      "metadata": {
        "colab": {
          "base_uri": "https://localhost:8080/"
        },
        "id": "f8R0kJN5XU7Y",
        "outputId": "2ee7693b-7c4b-41e9-86ba-c8a823261ce9"
      },
      "id": "f8R0kJN5XU7Y",
      "execution_count": 83,
      "outputs": [
        {
          "output_type": "stream",
          "name": "stdout",
          "text": [
            "['2021', '2021', '2021', '2021', '2021', '2022', '2021', '2022', '2022', '2022', '2021', '2021', '2021', '2021', '2021', '2021', '2021', '2022', '2020', '2020', '2020', '2022', '2022', '2022', '2022', '2020', '2020', '2019', '2022', '2022', '2022', '2022', '2020']\n"
          ]
        }
      ]
    },
    {
      "cell_type": "markdown",
      "id": "d1e00843-e11e-4b40-b0e2-8d7bff5ee08b",
      "metadata": {
        "id": "d1e00843-e11e-4b40-b0e2-8d7bff5ee08b"
      },
      "source": [
        "# Soal 3 "
      ]
    },
    {
      "cell_type": "markdown",
      "id": "564932e9-573b-4631-880e-cb2c97564dab",
      "metadata": {
        "id": "564932e9-573b-4631-880e-cb2c97564dab"
      },
      "source": [
        "Setelah menemukan variabel `Angkatan` silahkan untuk membuat dictionary `Nama`,`NIM`, dan `Angkatan`."
      ]
    },
    {
      "cell_type": "code",
      "source": [
        "dict_mahasiswa= { \"Nama\": Nama,\n",
        "  \"NIM\": NIM,\n",
        "  \"Angkatan\": Angkatan}\n",
        "print(dict_mahasiswa)"
      ],
      "metadata": {
        "colab": {
          "base_uri": "https://localhost:8080/"
        },
        "id": "dMAIujyVwvfX",
        "outputId": "40412e25-8720-402e-d098-0b7e86ae5031"
      },
      "id": "dMAIujyVwvfX",
      "execution_count": 84,
      "outputs": [
        {
          "output_type": "stream",
          "name": "stdout",
          "text": [
            "{'Nama': ['Wisnu Catur Rachmad tulloh', 'Sindy Mei Marantika', 'Zakiah Intan Maula', 'Januar Nur Rasyid', 'Lisa Nessa Safitri', 'Hasan Darmawan\\t', 'SAIFUL ANDIKA', 'Maya Isafa Sam Saputri\\t', 'Didi Cahyadi', 'Izza Anggitha Aryanawa', 'Khusnul Khotimah', 'Badzliana Aqmar Suris', 'Anggit Larasati\\t', 'Sona Regina Salsabila', 'LELY AMALIA SAPUTRI', 'Nastasya Dewi', 'Ragita Anillya Putri Prasetianto', 'Muhammad Fatah Hidayat', 'Dwi Agustia', 'Nia Andriani Laila\\t', 'Winarsi J. Bidul', 'Heru Pranoto', 'Reynaldi Ikbar Surya Andhika', 'Muhammad Rafiq Amrullah', 'Muhammad Mujahid Al-makky', 'Fauzi Ramadhan', 'Vinna Rahmasari', 'Shintia Yulita Sari', 'Maretta Mia Audina', 'Salma Aulia Imama', 'Dhea Emma Karniasari', 'Khoirun Nisya', 'PUSPITA AMBARWATI'], 'NIM': [2100015049, 2100015041, 2100015043, 2100015006, 2100015037, 2215015035, 2100015051, 2200015023, 2200015012, 2200015032, 2100015009, 2100015016, 2100015036, 2100015053, 2100015050, 2100015010, 2100015002, 2200015002, 2000015016, 2000015002, 2000015011, 2211015008, 2200015007, 2200015028, 2200015006, 2000015018, 2000015023, 1900015057, 2200015010, 2200015009, 2200015024, 2200015033, 2000015022], 'Angkatan': ['2021', '2021', '2021', '2021', '2021', '2022', '2021', '2022', '2022', '2022', '2021', '2021', '2021', '2021', '2021', '2021', '2021', '2022', '2020', '2020', '2020', '2022', '2022', '2022', '2022', '2020', '2020', '2019', '2022', '2022', '2022', '2022', '2020']}\n"
          ]
        }
      ]
    },
    {
      "cell_type": "markdown",
      "source": [
        "#Soal 4"
      ],
      "metadata": {
        "id": "jMD1TLsn1Ucd"
      },
      "id": "jMD1TLsn1Ucd"
    },
    {
      "cell_type": "markdown",
      "id": "81a17f42-68f4-438a-9f2f-6c8f91c5c6d7",
      "metadata": {
        "id": "81a17f42-68f4-438a-9f2f-6c8f91c5c6d7"
      },
      "source": [
        "Lakukan convert kedalam bentuk data frame dan beri nama `df`"
      ]
    },
    {
      "cell_type": "code",
      "execution_count": 86,
      "id": "bd74ba20-fa85-4f41-9b81-ba165f6fd95f",
      "metadata": {
        "id": "bd74ba20-fa85-4f41-9b81-ba165f6fd95f",
        "colab": {
          "base_uri": "https://localhost:8080/",
          "height": 1000
        },
        "outputId": "26e5adad-0201-48f8-cb31-aaeae8ba5d4a"
      },
      "outputs": [
        {
          "output_type": "execute_result",
          "data": {
            "text/plain": [
              "                                Nama         NIM Angkatan\n",
              "0         Wisnu Catur Rachmad tulloh  2100015049     2021\n",
              "1                Sindy Mei Marantika  2100015041     2021\n",
              "2                 Zakiah Intan Maula  2100015043     2021\n",
              "3                  Januar Nur Rasyid  2100015006     2021\n",
              "4                 Lisa Nessa Safitri  2100015037     2021\n",
              "5                   Hasan Darmawan\\t  2215015035     2022\n",
              "6                      SAIFUL ANDIKA  2100015051     2021\n",
              "7           Maya Isafa Sam Saputri\\t  2200015023     2022\n",
              "8                       Didi Cahyadi  2200015012     2022\n",
              "9             Izza Anggitha Aryanawa  2200015032     2022\n",
              "10                  Khusnul Khotimah  2100015009     2021\n",
              "11             Badzliana Aqmar Suris  2100015016     2021\n",
              "12                 Anggit Larasati\\t  2100015036     2021\n",
              "13             Sona Regina Salsabila  2100015053     2021\n",
              "14               LELY AMALIA SAPUTRI  2100015050     2021\n",
              "15                     Nastasya Dewi  2100015010     2021\n",
              "16  Ragita Anillya Putri Prasetianto  2100015002     2021\n",
              "17            Muhammad Fatah Hidayat  2200015002     2022\n",
              "18                       Dwi Agustia  2000015016     2020\n",
              "19              Nia Andriani Laila\\t  2000015002     2020\n",
              "20                  Winarsi J. Bidul  2000015011     2020\n",
              "21                      Heru Pranoto  2211015008     2022\n",
              "22      Reynaldi Ikbar Surya Andhika  2200015007     2022\n",
              "23           Muhammad Rafiq Amrullah  2200015028     2022\n",
              "24         Muhammad Mujahid Al-makky  2200015006     2022\n",
              "25                    Fauzi Ramadhan  2000015018     2020\n",
              "26                   Vinna Rahmasari  2000015023     2020\n",
              "27               Shintia Yulita Sari  1900015057     2019\n",
              "28                Maretta Mia Audina  2200015010     2022\n",
              "29                 Salma Aulia Imama  2200015009     2022\n",
              "30              Dhea Emma Karniasari  2200015024     2022\n",
              "31                     Khoirun Nisya  2200015033     2022\n",
              "32                 PUSPITA AMBARWATI  2000015022     2020"
            ],
            "text/html": [
              "\n",
              "  <div id=\"df-96b5923a-5410-4bf5-9b90-59874fac08d4\">\n",
              "    <div class=\"colab-df-container\">\n",
              "      <div>\n",
              "<style scoped>\n",
              "    .dataframe tbody tr th:only-of-type {\n",
              "        vertical-align: middle;\n",
              "    }\n",
              "\n",
              "    .dataframe tbody tr th {\n",
              "        vertical-align: top;\n",
              "    }\n",
              "\n",
              "    .dataframe thead th {\n",
              "        text-align: right;\n",
              "    }\n",
              "</style>\n",
              "<table border=\"1\" class=\"dataframe\">\n",
              "  <thead>\n",
              "    <tr style=\"text-align: right;\">\n",
              "      <th></th>\n",
              "      <th>Nama</th>\n",
              "      <th>NIM</th>\n",
              "      <th>Angkatan</th>\n",
              "    </tr>\n",
              "  </thead>\n",
              "  <tbody>\n",
              "    <tr>\n",
              "      <th>0</th>\n",
              "      <td>Wisnu Catur Rachmad tulloh</td>\n",
              "      <td>2100015049</td>\n",
              "      <td>2021</td>\n",
              "    </tr>\n",
              "    <tr>\n",
              "      <th>1</th>\n",
              "      <td>Sindy Mei Marantika</td>\n",
              "      <td>2100015041</td>\n",
              "      <td>2021</td>\n",
              "    </tr>\n",
              "    <tr>\n",
              "      <th>2</th>\n",
              "      <td>Zakiah Intan Maula</td>\n",
              "      <td>2100015043</td>\n",
              "      <td>2021</td>\n",
              "    </tr>\n",
              "    <tr>\n",
              "      <th>3</th>\n",
              "      <td>Januar Nur Rasyid</td>\n",
              "      <td>2100015006</td>\n",
              "      <td>2021</td>\n",
              "    </tr>\n",
              "    <tr>\n",
              "      <th>4</th>\n",
              "      <td>Lisa Nessa Safitri</td>\n",
              "      <td>2100015037</td>\n",
              "      <td>2021</td>\n",
              "    </tr>\n",
              "    <tr>\n",
              "      <th>5</th>\n",
              "      <td>Hasan Darmawan\\t</td>\n",
              "      <td>2215015035</td>\n",
              "      <td>2022</td>\n",
              "    </tr>\n",
              "    <tr>\n",
              "      <th>6</th>\n",
              "      <td>SAIFUL ANDIKA</td>\n",
              "      <td>2100015051</td>\n",
              "      <td>2021</td>\n",
              "    </tr>\n",
              "    <tr>\n",
              "      <th>7</th>\n",
              "      <td>Maya Isafa Sam Saputri\\t</td>\n",
              "      <td>2200015023</td>\n",
              "      <td>2022</td>\n",
              "    </tr>\n",
              "    <tr>\n",
              "      <th>8</th>\n",
              "      <td>Didi Cahyadi</td>\n",
              "      <td>2200015012</td>\n",
              "      <td>2022</td>\n",
              "    </tr>\n",
              "    <tr>\n",
              "      <th>9</th>\n",
              "      <td>Izza Anggitha Aryanawa</td>\n",
              "      <td>2200015032</td>\n",
              "      <td>2022</td>\n",
              "    </tr>\n",
              "    <tr>\n",
              "      <th>10</th>\n",
              "      <td>Khusnul Khotimah</td>\n",
              "      <td>2100015009</td>\n",
              "      <td>2021</td>\n",
              "    </tr>\n",
              "    <tr>\n",
              "      <th>11</th>\n",
              "      <td>Badzliana Aqmar Suris</td>\n",
              "      <td>2100015016</td>\n",
              "      <td>2021</td>\n",
              "    </tr>\n",
              "    <tr>\n",
              "      <th>12</th>\n",
              "      <td>Anggit Larasati\\t</td>\n",
              "      <td>2100015036</td>\n",
              "      <td>2021</td>\n",
              "    </tr>\n",
              "    <tr>\n",
              "      <th>13</th>\n",
              "      <td>Sona Regina Salsabila</td>\n",
              "      <td>2100015053</td>\n",
              "      <td>2021</td>\n",
              "    </tr>\n",
              "    <tr>\n",
              "      <th>14</th>\n",
              "      <td>LELY AMALIA SAPUTRI</td>\n",
              "      <td>2100015050</td>\n",
              "      <td>2021</td>\n",
              "    </tr>\n",
              "    <tr>\n",
              "      <th>15</th>\n",
              "      <td>Nastasya Dewi</td>\n",
              "      <td>2100015010</td>\n",
              "      <td>2021</td>\n",
              "    </tr>\n",
              "    <tr>\n",
              "      <th>16</th>\n",
              "      <td>Ragita Anillya Putri Prasetianto</td>\n",
              "      <td>2100015002</td>\n",
              "      <td>2021</td>\n",
              "    </tr>\n",
              "    <tr>\n",
              "      <th>17</th>\n",
              "      <td>Muhammad Fatah Hidayat</td>\n",
              "      <td>2200015002</td>\n",
              "      <td>2022</td>\n",
              "    </tr>\n",
              "    <tr>\n",
              "      <th>18</th>\n",
              "      <td>Dwi Agustia</td>\n",
              "      <td>2000015016</td>\n",
              "      <td>2020</td>\n",
              "    </tr>\n",
              "    <tr>\n",
              "      <th>19</th>\n",
              "      <td>Nia Andriani Laila\\t</td>\n",
              "      <td>2000015002</td>\n",
              "      <td>2020</td>\n",
              "    </tr>\n",
              "    <tr>\n",
              "      <th>20</th>\n",
              "      <td>Winarsi J. Bidul</td>\n",
              "      <td>2000015011</td>\n",
              "      <td>2020</td>\n",
              "    </tr>\n",
              "    <tr>\n",
              "      <th>21</th>\n",
              "      <td>Heru Pranoto</td>\n",
              "      <td>2211015008</td>\n",
              "      <td>2022</td>\n",
              "    </tr>\n",
              "    <tr>\n",
              "      <th>22</th>\n",
              "      <td>Reynaldi Ikbar Surya Andhika</td>\n",
              "      <td>2200015007</td>\n",
              "      <td>2022</td>\n",
              "    </tr>\n",
              "    <tr>\n",
              "      <th>23</th>\n",
              "      <td>Muhammad Rafiq Amrullah</td>\n",
              "      <td>2200015028</td>\n",
              "      <td>2022</td>\n",
              "    </tr>\n",
              "    <tr>\n",
              "      <th>24</th>\n",
              "      <td>Muhammad Mujahid Al-makky</td>\n",
              "      <td>2200015006</td>\n",
              "      <td>2022</td>\n",
              "    </tr>\n",
              "    <tr>\n",
              "      <th>25</th>\n",
              "      <td>Fauzi Ramadhan</td>\n",
              "      <td>2000015018</td>\n",
              "      <td>2020</td>\n",
              "    </tr>\n",
              "    <tr>\n",
              "      <th>26</th>\n",
              "      <td>Vinna Rahmasari</td>\n",
              "      <td>2000015023</td>\n",
              "      <td>2020</td>\n",
              "    </tr>\n",
              "    <tr>\n",
              "      <th>27</th>\n",
              "      <td>Shintia Yulita Sari</td>\n",
              "      <td>1900015057</td>\n",
              "      <td>2019</td>\n",
              "    </tr>\n",
              "    <tr>\n",
              "      <th>28</th>\n",
              "      <td>Maretta Mia Audina</td>\n",
              "      <td>2200015010</td>\n",
              "      <td>2022</td>\n",
              "    </tr>\n",
              "    <tr>\n",
              "      <th>29</th>\n",
              "      <td>Salma Aulia Imama</td>\n",
              "      <td>2200015009</td>\n",
              "      <td>2022</td>\n",
              "    </tr>\n",
              "    <tr>\n",
              "      <th>30</th>\n",
              "      <td>Dhea Emma Karniasari</td>\n",
              "      <td>2200015024</td>\n",
              "      <td>2022</td>\n",
              "    </tr>\n",
              "    <tr>\n",
              "      <th>31</th>\n",
              "      <td>Khoirun Nisya</td>\n",
              "      <td>2200015033</td>\n",
              "      <td>2022</td>\n",
              "    </tr>\n",
              "    <tr>\n",
              "      <th>32</th>\n",
              "      <td>PUSPITA AMBARWATI</td>\n",
              "      <td>2000015022</td>\n",
              "      <td>2020</td>\n",
              "    </tr>\n",
              "  </tbody>\n",
              "</table>\n",
              "</div>\n",
              "      <button class=\"colab-df-convert\" onclick=\"convertToInteractive('df-96b5923a-5410-4bf5-9b90-59874fac08d4')\"\n",
              "              title=\"Convert this dataframe to an interactive table.\"\n",
              "              style=\"display:none;\">\n",
              "        \n",
              "  <svg xmlns=\"http://www.w3.org/2000/svg\" height=\"24px\"viewBox=\"0 0 24 24\"\n",
              "       width=\"24px\">\n",
              "    <path d=\"M0 0h24v24H0V0z\" fill=\"none\"/>\n",
              "    <path d=\"M18.56 5.44l.94 2.06.94-2.06 2.06-.94-2.06-.94-.94-2.06-.94 2.06-2.06.94zm-11 1L8.5 8.5l.94-2.06 2.06-.94-2.06-.94L8.5 2.5l-.94 2.06-2.06.94zm10 10l.94 2.06.94-2.06 2.06-.94-2.06-.94-.94-2.06-.94 2.06-2.06.94z\"/><path d=\"M17.41 7.96l-1.37-1.37c-.4-.4-.92-.59-1.43-.59-.52 0-1.04.2-1.43.59L10.3 9.45l-7.72 7.72c-.78.78-.78 2.05 0 2.83L4 21.41c.39.39.9.59 1.41.59.51 0 1.02-.2 1.41-.59l7.78-7.78 2.81-2.81c.8-.78.8-2.07 0-2.86zM5.41 20L4 18.59l7.72-7.72 1.47 1.35L5.41 20z\"/>\n",
              "  </svg>\n",
              "      </button>\n",
              "      \n",
              "  <style>\n",
              "    .colab-df-container {\n",
              "      display:flex;\n",
              "      flex-wrap:wrap;\n",
              "      gap: 12px;\n",
              "    }\n",
              "\n",
              "    .colab-df-convert {\n",
              "      background-color: #E8F0FE;\n",
              "      border: none;\n",
              "      border-radius: 50%;\n",
              "      cursor: pointer;\n",
              "      display: none;\n",
              "      fill: #1967D2;\n",
              "      height: 32px;\n",
              "      padding: 0 0 0 0;\n",
              "      width: 32px;\n",
              "    }\n",
              "\n",
              "    .colab-df-convert:hover {\n",
              "      background-color: #E2EBFA;\n",
              "      box-shadow: 0px 1px 2px rgba(60, 64, 67, 0.3), 0px 1px 3px 1px rgba(60, 64, 67, 0.15);\n",
              "      fill: #174EA6;\n",
              "    }\n",
              "\n",
              "    [theme=dark] .colab-df-convert {\n",
              "      background-color: #3B4455;\n",
              "      fill: #D2E3FC;\n",
              "    }\n",
              "\n",
              "    [theme=dark] .colab-df-convert:hover {\n",
              "      background-color: #434B5C;\n",
              "      box-shadow: 0px 1px 3px 1px rgba(0, 0, 0, 0.15);\n",
              "      filter: drop-shadow(0px 1px 2px rgba(0, 0, 0, 0.3));\n",
              "      fill: #FFFFFF;\n",
              "    }\n",
              "  </style>\n",
              "\n",
              "      <script>\n",
              "        const buttonEl =\n",
              "          document.querySelector('#df-96b5923a-5410-4bf5-9b90-59874fac08d4 button.colab-df-convert');\n",
              "        buttonEl.style.display =\n",
              "          google.colab.kernel.accessAllowed ? 'block' : 'none';\n",
              "\n",
              "        async function convertToInteractive(key) {\n",
              "          const element = document.querySelector('#df-96b5923a-5410-4bf5-9b90-59874fac08d4');\n",
              "          const dataTable =\n",
              "            await google.colab.kernel.invokeFunction('convertToInteractive',\n",
              "                                                     [key], {});\n",
              "          if (!dataTable) return;\n",
              "\n",
              "          const docLinkHtml = 'Like what you see? Visit the ' +\n",
              "            '<a target=\"_blank\" href=https://colab.research.google.com/notebooks/data_table.ipynb>data table notebook</a>'\n",
              "            + ' to learn more about interactive tables.';\n",
              "          element.innerHTML = '';\n",
              "          dataTable['output_type'] = 'display_data';\n",
              "          await google.colab.output.renderOutput(dataTable, element);\n",
              "          const docLink = document.createElement('div');\n",
              "          docLink.innerHTML = docLinkHtml;\n",
              "          element.appendChild(docLink);\n",
              "        }\n",
              "      </script>\n",
              "    </div>\n",
              "  </div>\n",
              "  "
            ]
          },
          "metadata": {},
          "execution_count": 86
        }
      ],
      "source": [
        "import pandas as pd\n",
        "df =pd.DataFrame(dict_mahasiswa)\n",
        "df"
      ]
    },
    {
      "cell_type": "markdown",
      "id": "41b28f8e-e4f9-43e3-9410-d71b735a364e",
      "metadata": {
        "id": "41b28f8e-e4f9-43e3-9410-d71b735a364e"
      },
      "source": [
        "# Soal 5"
      ]
    },
    {
      "cell_type": "markdown",
      "id": "ebc7f899-5ad7-41a2-a9c2-2883a76d16ca",
      "metadata": {
        "id": "ebc7f899-5ad7-41a2-a9c2-2883a76d16ca"
      },
      "source": [
        "Buatlah Visualisasi dengan menggunakan `pie chart` dengan menunjukan banyaknya orang setiap angkatan yang mengikuti PD 4.0"
      ]
    },
    {
      "cell_type": "code",
      "execution_count": 91,
      "id": "1d0b8ca4-bb91-4108-a293-a809af0ed57b",
      "metadata": {
        "id": "1d0b8ca4-bb91-4108-a293-a809af0ed57b",
        "colab": {
          "base_uri": "https://localhost:8080/",
          "height": 264
        },
        "outputId": "17aace25-5822-4e8d-a604-8cad95228383"
      },
      "outputs": [
        {
          "output_type": "display_data",
          "data": {
            "text/plain": [
              "<Figure size 432x288 with 1 Axes>"
            ],
            "image/png": "[encoded data removed]"
          },
          "metadata": {}
        }
      ],
      "source": [
        "import matplotlib.pyplot as plt\n",
        "\n",
        "Angkatan_counts = df['Angkatan'].value_counts()\n",
        "\n",
        "# Membuat pie chart\n",
        "plt.pie(Angkatan_counts, labels=Angkatan_counts.index)\n",
        "plt.title('Banyaknya Mahasiswa Setiap Angkatan yang Mengikuti PD 4.0')\n",
        "plt.show()"
      ]
    },
    {
      "cell_type": "markdown",
      "id": "7a898556-05d5-47bc-9d04-8875ff56e89d",
      "metadata": {
        "id": "7a898556-05d5-47bc-9d04-8875ff56e89d"
      },
      "source": [
        "# Soal 6"
      ]
    },
    {
      "cell_type": "markdown",
      "id": "18b99649-98b2-45c1-a4b4-ff4baa4cf6ac",
      "metadata": {
        "id": "18b99649-98b2-45c1-a4b4-ff4baa4cf6ac"
      },
      "source": [
        "Lakukan penyimpanan data frame `df` ke dalam bentuk `csv` dengan nama `data_pd4.csv`"
      ]
    },
    {
      "cell_type": "code",
      "execution_count": 92,
      "id": "15b15db7-2ce6-4bad-9a67-ea169f75ea39",
      "metadata": {
        "id": "15b15db7-2ce6-4bad-9a67-ea169f75ea39"
      },
      "outputs": [],
      "source": [
        "df.to_csv('data_pd4.csv', sep=',', index=False)"
      ]
    },
    {
      "cell_type": "markdown",
      "id": "77330f16-1927-45d1-a9c4-f86fd5b75db2",
      "metadata": {
        "id": "77330f16-1927-45d1-a9c4-f86fd5b75db2"
      },
      "source": [
        "# Soal 7"
      ]
    },
    {
      "cell_type": "markdown",
      "id": "1a2dd35f-0147-4dea-87a7-46f2787bc030",
      "metadata": {
        "id": "1a2dd35f-0147-4dea-87a7-46f2787bc030"
      },
      "source": [
        "Buatlah data frame dengan nama `df1` dari file csv `iris.csv`"
      ]
    },
    {
      "cell_type": "code",
      "execution_count": 93,
      "id": "aebf1851-6bef-44ee-bbab-38fd746e13ac",
      "metadata": {
        "id": "aebf1851-6bef-44ee-bbab-38fd746e13ac",
        "colab": {
          "base_uri": "https://localhost:8080/",
          "height": 206
        },
        "outputId": "23fee8ad-2826-4c53-a9d3-81e2fba23d95"
      },
      "outputs": [
        {
          "output_type": "execute_result",
          "data": {
            "text/plain": [
              "   sepalwidth  sepallength  petalwidth  petallength         type\n",
              "0         5.1          3.5         1.4          0.2  Iris-setosa\n",
              "1         4.9          3.0         1.4          0.2  Iris-setosa\n",
              "2         4.7          3.2         1.3          0.2  Iris-setosa\n",
              "3         4.6          3.1         1.5          0.2  Iris-setosa\n",
              "4         5.0          3.6         1.4          0.2  Iris-setosa"
            ],
            "text/html": [
              "\n",
              "  <div id=\"df-ae102d23-64be-486b-98ec-f5e6456b972e\">\n",
              "    <div class=\"colab-df-container\">\n",
              "      <div>\n",
              "<style scoped>\n",
              "    .dataframe tbody tr th:only-of-type {\n",
              "        vertical-align: middle;\n",
              "    }\n",
              "\n",
              "    .dataframe tbody tr th {\n",
              "        vertical-align: top;\n",
              "    }\n",
              "\n",
              "    .dataframe thead th {\n",
              "        text-align: right;\n",
              "    }\n",
              "</style>\n",
              "<table border=\"1\" class=\"dataframe\">\n",
              "  <thead>\n",
              "    <tr style=\"text-align: right;\">\n",
              "      <th></th>\n",
              "      <th>sepalwidth</th>\n",
              "      <th>sepallength</th>\n",
              "      <th>petalwidth</th>\n",
              "      <th>petallength</th>\n",
              "      <th>type</th>\n",
              "    </tr>\n",
              "  </thead>\n",
              "  <tbody>\n",
              "    <tr>\n",
              "      <th>0</th>\n",
              "      <td>5.1</td>\n",
              "      <td>3.5</td>\n",
              "      <td>1.4</td>\n",
              "      <td>0.2</td>\n",
              "      <td>Iris-setosa</td>\n",
              "    </tr>\n",
              "    <tr>\n",
              "      <th>1</th>\n",
              "      <td>4.9</td>\n",
              "      <td>3.0</td>\n",
              "      <td>1.4</td>\n",
              "      <td>0.2</td>\n",
              "      <td>Iris-setosa</td>\n",
              "    </tr>\n",
              "    <tr>\n",
              "      <th>2</th>\n",
              "      <td>4.7</td>\n",
              "      <td>3.2</td>\n",
              "      <td>1.3</td>\n",
              "      <td>0.2</td>\n",
              "      <td>Iris-setosa</td>\n",
              "    </tr>\n",
              "    <tr>\n",
              "      <th>3</th>\n",
              "      <td>4.6</td>\n",
              "      <td>3.1</td>\n",
              "      <td>1.5</td>\n",
              "      <td>0.2</td>\n",
              "      <td>Iris-setosa</td>\n",
              "    </tr>\n",
              "    <tr>\n",
              "      <th>4</th>\n",
              "      <td>5.0</td>\n",
              "      <td>3.6</td>\n",
              "      <td>1.4</td>\n",
              "      <td>0.2</td>\n",
              "      <td>Iris-setosa</td>\n",
              "    </tr>\n",
              "  </tbody>\n",
              "</table>\n",
              "</div>\n",
              "      <button class=\"colab-df-convert\" onclick=\"convertToInteractive('df-ae102d23-64be-486b-98ec-f5e6456b972e')\"\n",
              "              title=\"Convert this dataframe to an interactive table.\"\n",
              "              style=\"display:none;\">\n",
              "        \n",
              "  <svg xmlns=\"http://www.w3.org/2000/svg\" height=\"24px\"viewBox=\"0 0 24 24\"\n",
              "       width=\"24px\">\n",
              "    <path d=\"M0 0h24v24H0V0z\" fill=\"none\"/>\n",
              "    <path d=\"M18.56 5.44l.94 2.06.94-2.06 2.06-.94-2.06-.94-.94-2.06-.94 2.06-2.06.94zm-11 1L8.5 8.5l.94-2.06 2.06-.94-2.06-.94L8.5 2.5l-.94 2.06-2.06.94zm10 10l.94 2.06.94-2.06 2.06-.94-2.06-.94-.94-2.06-.94 2.06-2.06.94z\"/><path d=\"M17.41 7.96l-1.37-1.37c-.4-.4-.92-.59-1.43-.59-.52 0-1.04.2-1.43.59L10.3 9.45l-7.72 7.72c-.78.78-.78 2.05 0 2.83L4 21.41c.39.39.9.59 1.41.59.51 0 1.02-.2 1.41-.59l7.78-7.78 2.81-2.81c.8-.78.8-2.07 0-2.86zM5.41 20L4 18.59l7.72-7.72 1.47 1.35L5.41 20z\"/>\n",
              "  </svg>\n",
              "      </button>\n",
              "      \n",
              "  <style>\n",
              "    .colab-df-container {\n",
              "      display:flex;\n",
              "      flex-wrap:wrap;\n",
              "      gap: 12px;\n",
              "    }\n",
              "\n",
              "    .colab-df-convert {\n",
              "      background-color: #E8F0FE;\n",
              "      border: none;\n",
              "      border-radius: 50%;\n",
              "      cursor: pointer;\n",
              "      display: none;\n",
              "      fill: #1967D2;\n",
              "      height: 32px;\n",
              "      padding: 0 0 0 0;\n",
              "      width: 32px;\n",
              "    }\n",
              "\n",
              "    .colab-df-convert:hover {\n",
              "      background-color: #E2EBFA;\n",
              "      box-shadow: 0px 1px 2px rgba(60, 64, 67, 0.3), 0px 1px 3px 1px rgba(60, 64, 67, 0.15);\n",
              "      fill: #174EA6;\n",
              "    }\n",
              "\n",
              "    [theme=dark] .colab-df-convert {\n",
              "      background-color: #3B4455;\n",
              "      fill: #D2E3FC;\n",
              "    }\n",
              "\n",
              "    [theme=dark] .colab-df-convert:hover {\n",
              "      background-color: #434B5C;\n",
              "      box-shadow: 0px 1px 3px 1px rgba(0, 0, 0, 0.15);\n",
              "      filter: drop-shadow(0px 1px 2px rgba(0, 0, 0, 0.3));\n",
              "      fill: #FFFFFF;\n",
              "    }\n",
              "  </style>\n",
              "\n",
              "      <script>\n",
              "        const buttonEl =\n",
              "          document.querySelector('#df-ae102d23-64be-486b-98ec-f5e6456b972e button.colab-df-convert');\n",
              "        buttonEl.style.display =\n",
              "          google.colab.kernel.accessAllowed ? 'block' : 'none';\n",
              "\n",
              "        async function convertToInteractive(key) {\n",
              "          const element = document.querySelector('#df-ae102d23-64be-486b-98ec-f5e6456b972e');\n",
              "          const dataTable =\n",
              "            await google.colab.kernel.invokeFunction('convertToInteractive',\n",
              "                                                     [key], {});\n",
              "          if (!dataTable) return;\n",
              "\n",
              "          const docLinkHtml = 'Like what you see? Visit the ' +\n",
              "            '<a target=\"_blank\" href=https://colab.research.google.com/notebooks/data_table.ipynb>data table notebook</a>'\n",
              "            + ' to learn more about interactive tables.';\n",
              "          element.innerHTML = '';\n",
              "          dataTable['output_type'] = 'display_data';\n",
              "          await google.colab.output.renderOutput(dataTable, element);\n",
              "          const docLink = document.createElement('div');\n",
              "          docLink.innerHTML = docLinkHtml;\n",
              "          element.appendChild(docLink);\n",
              "        }\n",
              "      </script>\n",
              "    </div>\n",
              "  </div>\n",
              "  "
            ]
          },
          "metadata": {},
          "execution_count": 93
        }
      ],
      "source": [
        "df1 = pd.read_csv('iris.csv')\n",
        "df1.head()"
      ]
    },
    {
      "cell_type": "markdown",
      "id": "477d27bf-6527-4700-b329-91fcc52a021b",
      "metadata": {
        "id": "477d27bf-6527-4700-b329-91fcc52a021b"
      },
      "source": [
        "# Soal 8"
      ]
    },
    {
      "cell_type": "markdown",
      "id": "8da6aefc-ed02-4e29-ae72-ecffeed28708",
      "metadata": {
        "id": "8da6aefc-ed02-4e29-ae72-ecffeed28708"
      },
      "source": [
        "Uplod `data_pd4.csv` kedalam github masing-masing lalu lakukan pembacaan data melalui raw.github dengan mencantumkan link data pada github. Lalu buatlah data frame dengan nama `df2`"
      ]
    },
    {
      "cell_type": "code",
      "execution_count": null,
      "id": "6d43a21a-1338-468b-9da6-3e09cff8e704",
      "metadata": {
        "id": "6d43a21a-1338-468b-9da6-3e09cff8e704"
      },
      "outputs": [],
      "source": []
    }
  ],
  "metadata": {
    "kernelspec": {
      "display_name": "Python 3",
      "language": "python",
      "name": "python3"
    },
    "language_info": {
      "codemirror_mode": {
        "name": "ipython",
        "version": 3
      },
      "file_extension": ".py",
      "mimetype": "text/x-python",
      "name": "python",
      "nbconvert_exporter": "python",
      "pygments_lexer": "ipython3",
      "version": "3.8.8"
    },
    "colab": {
      "provenance": [],
      "include_colab_link": true
    }
  },
  "nbformat": 4,
  "nbformat_minor": 5
}