{
  "nbformat": 4,
  "nbformat_minor": 0,
  "metadata": {
    "colab": {
      "provenance": [],
      "authorship_tag": "ABX9TyPaVrFGPzFA/vY+rKHg32wc",
      "include_colab_link": true
    },
    "kernelspec": {
      "name": "python3",
      "display_name": "Python 3"
    },
    "language_info": {
      "name": "python"
    }
  },
  "cells": [
    {
      "cell_type": "markdown",
      "metadata": {
        "id": "view-in-github",
        "colab_type": "text"
      },
      "source": [
        "<a href=\"https://colab.research.google.com/github/winarsibidul03/Pejuang-data-4.0/blob/main/(2)PSDS_Variabel_dan_Tipe_data_python.ipynb\" target=\"_parent\"><img src=\"https://colab.research.google.com/assets/colab-badge.svg\" alt=\"Open In Colab\"/></a>"
      ]
    },
    {
      "cell_type": "markdown",
      "source": [
        "**Nama : Winarsi J. Bidul** \n",
        "\n",
        "**NIM  : 2000015011**\n",
        "\n",
        "**Kelas Dasar**"
      ],
      "metadata": {
        "id": "Ii6E3yjq-w0D"
      }
    },
    {
      "cell_type": "markdown",
      "source": [
        "#Variabel &  Tipe Data"
      ],
      "metadata": {
        "id": "poRyMci0ltYC"
      }
    },
    {
      "cell_type": "markdown",
      "source": [
        "##Variabel"
      ],
      "metadata": {
        "id": "L42Grk-7mC7f"
      }
    },
    {
      "cell_type": "markdown",
      "source": [
        "Variables: Lokal penyimpanan yang dapat digunakan untuk menampung sebuah data atau informasi.\n",
        "Syarat syarat penamaan variabel \n",
        "1.   Karakter karakter yang digunakan untuk penamaan variable adalah alphabet, angka dan underscore.\n",
        "2.   Karakter pertama variabel harus berupa huruf atau garis bawah/underscore, dan tidak bisa berupa angka \n",
        "3. Nama sebuah variabel tidak bisa menggunakan keyword atau reserved words dari bahasa python seperti for, if dan lainnya \n",
        "4. Karakter pada nama variabel bersifat sensitif (case-sensitif)\n"
      ],
      "metadata": {
        "id": "VMWfK3Yf_qFF"
      }
    },
    {
      "cell_type": "code",
      "source": [
        "a= 'mangga, apel, rambutan'"
      ],
      "metadata": {
        "id": "vhBiZEeZnWSt"
      },
      "execution_count": 1,
      "outputs": []
    },
    {
      "cell_type": "code",
      "source": [
        "#membuat Variabel \n",
        "kalimat ='ini adalah variabel'\n",
        "bilangan1 = 4\n",
        "bilangan2 = 2.5\n",
        "bilangan3 = True\n",
        "bilangan4 = 1j + 4"
      ],
      "metadata": {
        "id": "dKy9ZYzmmVPQ"
      },
      "execution_count": 2,
      "outputs": []
    },
    {
      "cell_type": "code",
      "source": [
        "#menampilkan variabel\n",
        "print(kalimat)\n",
        "print(bilangan1)\n",
        "print(bilangan2)"
      ],
      "metadata": {
        "colab": {
          "base_uri": "https://localhost:8080/"
        },
        "id": "c8Cv5xpeokXv",
        "outputId": "1d959b74-b378-4781-8b0e-816104889ee3"
      },
      "execution_count": null,
      "outputs": [
        {
          "output_type": "stream",
          "name": "stdout",
          "text": [
            "ini adalah variabel\n",
            "4\n",
            "2.5\n"
          ]
        }
      ]
    },
    {
      "cell_type": "markdown",
      "source": [
        "##Tpe Data"
      ],
      "metadata": {
        "id": "2ZTp5nC5mKyL"
      }
    },
    {
      "cell_type": "markdown",
      "source": [
        "5 tipe data yaitu\n",
        "\n",
        "1. Integr atau bilangan bulat\n",
        "\n",
        "2. Float atau bilangan desimal\n",
        "\n",
        "3. string atau kalimat\n",
        "\n",
        "4. Boolean yang terdiri dari True dan False\n",
        "\n",
        "5. Complex yang merupakan bilangan kompleks"
      ],
      "metadata": {
        "id": "yw1SYsfvqtg7"
      }
    },
    {
      "cell_type": "code",
      "execution_count": null,
      "metadata": {
        "colab": {
          "base_uri": "https://localhost:8080/"
        },
        "id": "5wZCRXSZhsVs",
        "outputId": "f2f9d388-0166-4bd5-f708-a1598adfca64"
      },
      "outputs": [
        {
          "output_type": "stream",
          "name": "stdout",
          "text": [
            "<class 'str'>\n",
            "<class 'int'>\n",
            "<class 'float'>\n",
            "<class 'bool'>\n",
            "<class 'complex'>\n"
          ]
        }
      ],
      "source": [
        "print(type(kalimat))\n",
        "print(type(bilangan1))\n",
        "print(type(bilangan2))\n",
        "print(type(bilangan3))\n",
        "print(type(bilangan4))"
      ]
    },
    {
      "cell_type": "markdown",
      "source": [
        "###Latihan 1"
      ],
      "metadata": {
        "id": "7frB2kR-srPx"
      }
    },
    {
      "cell_type": "code",
      "source": [
        "# buatlah 5 variabel kalian sendiri dengan 5 macam tipe data \n",
        "# lalu tampilkan variabel menggunakan fungsi print"
      ],
      "metadata": {
        "id": "IXG8sYJzsnXO"
      },
      "execution_count": null,
      "outputs": []
    },
    {
      "cell_type": "code",
      "source": [
        "# buatlah 5 variabel kalian sendiri dengan 5 macam tipe data \n",
        "kalimat = '5 variabel dengan 5 macam tipe data'\n",
        "variabel1 = 10\n",
        "variabel2 = 3.4 \n",
        "variabel3 = False\n",
        "variabel4 = 2j + 3"
      ],
      "metadata": {
        "id": "bRnr-jgiscbt"
      },
      "execution_count": null,
      "outputs": []
    },
    {
      "cell_type": "code",
      "source": [
        "# tampilkan variabel menggunakan fungsi print\n",
        "print(kalimat)\n",
        "print(variabel1)\n",
        "print(variabel2)\n",
        "print(variabel3)\n",
        "print(variabel4)"
      ],
      "metadata": {
        "colab": {
          "base_uri": "https://localhost:8080/"
        },
        "id": "TuQCBAABsjoD",
        "outputId": "d4d04158-cb42-4320-a15b-80bb0534045a"
      },
      "execution_count": null,
      "outputs": [
        {
          "output_type": "stream",
          "name": "stdout",
          "text": [
            "5 variabel dengan 5 macam tipe data\n",
            "10\n",
            "3.4\n",
            "False\n",
            "(3+2j)\n"
          ]
        }
      ]
    },
    {
      "cell_type": "markdown",
      "source": [
        "##Konversi Tipe Data"
      ],
      "metadata": {
        "id": "W9qJyC4QARVV"
      }
    },
    {
      "cell_type": "markdown",
      "source": [
        "syntax konversi tipe data\n",
        "1.   Integer = int()\n",
        "2.   Float = float()\n",
        "3. String = str()\n",
        "4. Boolean = bool()\n",
        "5. Complex = Complex()"
      ],
      "metadata": {
        "id": "-odjfNkYsMzK"
      }
    },
    {
      "cell_type": "code",
      "source": [
        "# konversi tipe data integer\n",
        "print(int(bilangan2))\n",
        "print(int(bilangan3))"
      ],
      "metadata": {
        "colab": {
          "base_uri": "https://localhost:8080/"
        },
        "id": "-tppGyCKsON2",
        "outputId": "2f80f0b0-264a-446d-d318-611880902f1e"
      },
      "execution_count": null,
      "outputs": [
        {
          "output_type": "stream",
          "name": "stdout",
          "text": [
            "2\n",
            "1\n"
          ]
        }
      ]
    },
    {
      "cell_type": "code",
      "source": [
        "# konversi tipe data float\n",
        "print(float(bilangan1))\n",
        "print(float(bilangan3))"
      ],
      "metadata": {
        "colab": {
          "base_uri": "https://localhost:8080/"
        },
        "id": "xW8gzlfxsVrA",
        "outputId": "976f3f50-5c20-4712-e172-cf2d3a9ec08e"
      },
      "execution_count": null,
      "outputs": [
        {
          "output_type": "stream",
          "name": "stdout",
          "text": [
            "4.0\n",
            "1.0\n"
          ]
        }
      ]
    },
    {
      "cell_type": "code",
      "source": [
        "# konversi tipe data string \n",
        "print(str(bilangan1))\n",
        "print(str(bilangan2))\n",
        "print(str(bilangan3))"
      ],
      "metadata": {
        "colab": {
          "base_uri": "https://localhost:8080/"
        },
        "id": "Yayo2SYPAjAV",
        "outputId": "471cc00f-a8e6-4e13-fd62-4e70bc4e6813"
      },
      "execution_count": null,
      "outputs": [
        {
          "output_type": "stream",
          "name": "stdout",
          "text": [
            "4\n",
            "2.5\n",
            "True\n"
          ]
        }
      ]
    },
    {
      "cell_type": "code",
      "source": [
        "# konversi tipe data bool\n",
        "print(bool(bilangan1))\n",
        "print(bool(bilangan2))"
      ],
      "metadata": {
        "colab": {
          "base_uri": "https://localhost:8080/"
        },
        "id": "-8IpiX8KA804",
        "outputId": "4c527e6c-4110-4b91-ce90-413d3c384d2e"
      },
      "execution_count": null,
      "outputs": [
        {
          "output_type": "stream",
          "name": "stdout",
          "text": [
            "True\n",
            "True\n"
          ]
        }
      ]
    },
    {
      "cell_type": "code",
      "source": [
        "# konversi tipe data complex\n",
        "print(complex(bilangan1))\n",
        "print(complex(bilangan2))\n",
        "print(complex(bilangan3))"
      ],
      "metadata": {
        "colab": {
          "base_uri": "https://localhost:8080/"
        },
        "id": "n-zUnTxeBCzl",
        "outputId": "642b7b9d-0424-4085-9300-0099a53a9cc2"
      },
      "execution_count": null,
      "outputs": [
        {
          "output_type": "stream",
          "name": "stdout",
          "text": [
            "(4+0j)\n",
            "(2.5+0j)\n",
            "(1+0j)\n"
          ]
        }
      ]
    }
  ]
}