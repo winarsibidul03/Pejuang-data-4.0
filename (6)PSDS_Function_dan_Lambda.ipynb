{
  "nbformat": 4,
  "nbformat_minor": 0,
  "metadata": {
    "colab": {
      "provenance": [],
      "authorship_tag": "ABX9TyP/XNcakpb3rbjhW2yHbHPP",
      "include_colab_link": true
    },
    "kernelspec": {
      "name": "python3",
      "display_name": "Python 3"
    },
    "language_info": {
      "name": "python"
    }
  },
  "cells": [
    {
      "cell_type": "markdown",
      "metadata": {
        "id": "view-in-github",
        "colab_type": "text"
      },
      "source": [
        "<a href=\"https://colab.research.google.com/github/winarsibidul03/Pejuang-data-4.0/blob/main/(6)PSDS_Function_dan_Lambda.ipynb\" target=\"_parent\"><img src=\"https://colab.research.google.com/assets/colab-badge.svg\" alt=\"Open In Colab\"/></a>"
      ]
    },
    {
      "cell_type": "markdown",
      "source": [
        "**NAMA : WINARSI J. BIDUL**\n",
        "\n",
        "**NIM : 2000015011**\n",
        "\n",
        "**KELAS DASAR**"
      ],
      "metadata": {
        "id": "vSw33QuveJo_"
      }
    },
    {
      "cell_type": "markdown",
      "source": [
        "# Function"
      ],
      "metadata": {
        "id": "P8igfn6TeMN9"
      }
    },
    {
      "cell_type": "markdown",
      "source": [
        "Function(Fungsi) adalah sebuah blok statement yang hanya  akan dijalankan saat ia dipanggil.\n",
        "\n",
        "Fungsi len() untuk mengukur jumlah elemen dalalm sebuah list dan fungsi print() untuk menampikan pesan pada layar konsol merupakan contoh dari bentuk fungsi yang telah disediakan oleh bahasa pemrograman Pythonatau dengan kata lain built-in functions. \n",
        "\n",
        "Selain fungsi yang telah disediakan oleh Python, Phyton mengizinkan untuk mendeklarasikan fungsi dalam kode yang dituliskan yang dikenal dengan user defined function\n",
        "\n",
        "```\n",
        "def nama_fungsi(argument):\n",
        "    statement_1\n",
        "    _\n",
        "    statement_n\n",
        "    return returned_value\n",
        "```\n",
        "\n",
        "* **nama_fungsi** adalah nama untuk fungsi yang anda definisikan, memiliki aturan seperti penamaan variabel.\n",
        "* **argument** adalah variabel yang dimasukan ke fungsi, bisa tanpa variabel, satu variabel atau lebih\n",
        "* **Statement_1** ... statement_n adalah algoritma yang telah anda transfer dalam bahasa Python yang merupakan inti dari fungsi yang anda definisikan. Seluruh statement adalah menjorok (indent) ke dalam seperti yang pernah anda pelajari pada conditioning dan looping.\n",
        "* **return_value** adalah variabel output dari fungsi Anda. bisa tanpa variabel, satu Variabel atau lebih."
      ],
      "metadata": {
        "id": "REh-BVBlePng"
      }
    },
    {
      "cell_type": "markdown",
      "source": [
        "## Argumen Posisi dan Kata Kunci"
      ],
      "metadata": {
        "id": "nwuEeNt7eVD6"
      }
    },
    {
      "cell_type": "markdown",
      "source": [
        "Kita bisa menyatakan argumen sebagai argumen posisi atau kata kunci. Beberapa manfaat argument kata kunci dapat berupa:\n",
        "\n",
        "* kita dapat menyebutkan argumen dengan nama mereka untuk memperjelas apa yang mereka wakili.\n",
        "* Kita dapat mengatur ulang argumen dengan acra yang membuatnya paling mudah dibaca."
      ],
      "metadata": {
        "id": "S5VGmReHeZdS"
      }
    },
    {
      "cell_type": "code",
      "execution_count": null,
      "metadata": {
        "id": "HDOg2t52d5RN"
      },
      "outputs": [],
      "source": [
        "def angka(a, b, c):\n",
        "    print(a, b, c)\n",
        "\n",
        "#Argumen posisi\n",
        "#Argumen berdasarkan posisinya\n",
        "angka(1, 2, 3)\n",
        "\n",
        "#Argumen berdasarkan kata kuncinya\n",
        "angka(a=1, b=2, c=3)\n",
        "angka(c=3, b=2, a=1)\n",
        "#Catatan : Jika sudah diberi kunci maka urutan tidak menjadi penting\n",
        "\n",
        "#Campuran antara Argumen posisi dan Argumen kata kunci\n",
        "angka(1, b=2, c=3)\n",
        "\n",
        "# Ini tidak diijinkan:\n",
        "angka(1, b=2, 3) # Argumen posisional setelah argumen kunci\n",
        "angka(1, b=2, a=3) # Terdapat dua nilai untuk argumen kunci 'a'"
      ]
    },
    {
      "cell_type": "markdown",
      "source": [
        "##Argumen Default"
      ],
      "metadata": {
        "id": "7_dX6X94ejSx"
      }
    },
    {
      "cell_type": "markdown",
      "source": [
        "Fungsi dapat memiliki argumen default denga nilai yang telah ditentukan sebelumnya. Argumen ini dapat ditinggalkan dan nilai default kemudian diteruskan ke fungsi, atau argumen dapat dirubah dengan nilai yang berbeda. \n",
        "\n",
        "Perhatikan bahwa argumen default harus ditentukan sebagai **parameter terakhir** dalam suatu fungsi."
      ],
      "metadata": {
        "id": "1hU7hEgEelyO"
      }
    },
    {
      "cell_type": "code",
      "source": [
        "# Argumen default\n",
        "def angka2(a, b, c, d=4):\n",
        "    print(1, b, c, d)\n",
        "\n",
        "angka2(1, 2, 3, 4)\n",
        "angka2(1, b=2, c=3, d=100)\n",
        "\n",
        "#Argumen default harus diletakkan terakhir"
      ],
      "metadata": {
        "id": "k90d6G5_eoYn"
      },
      "execution_count": null,
      "outputs": []
    },
    {
      "cell_type": "markdown",
      "source": [
        "###Praktik Membuat Fungsi"
      ],
      "metadata": {
        "id": "376j4ZDsesOr"
      }
    },
    {
      "cell_type": "code",
      "source": [
        "x = 1\n",
        "y = 2\n",
        "x*y"
      ],
      "metadata": {
        "id": "H9j2AD6wewfx"
      },
      "execution_count": null,
      "outputs": []
    },
    {
      "cell_type": "code",
      "source": [
        "def penjumlahan(x,y): #input\n",
        "  a=x+y               #proses\n",
        "  return a            #output\n",
        "\n",
        "penjumlahan(15, 20)     #menggunakan fungsi"
      ],
      "metadata": {
        "id": "CBrK3fyBe0_J"
      },
      "execution_count": null,
      "outputs": []
    },
    {
      "cell_type": "markdown",
      "source": [
        "**Penjumlahan yang memungkinkan untuk tiga bilangan**"
      ],
      "metadata": {
        "id": "603_Yg16fT5k"
      }
    },
    {
      "cell_type": "code",
      "source": [
        "def penjumlahan(x,y,z=None):\n",
        "    if (z==None):\n",
        "        return x+y\n",
        "    else:\n",
        "        return x+y+z\n",
        "\n",
        "print(penjumlahan(2,2))\n",
        "print(penjumlahan(2,2,2))"
      ],
      "metadata": {
        "id": "LLnJAsKpfU5F"
      },
      "execution_count": null,
      "outputs": []
    },
    {
      "cell_type": "markdown",
      "source": [
        "penyimpanan hasil fungsi dari variabel "
      ],
      "metadata": {
        "id": "NPLMZ92BfbOv"
      }
    },
    {
      "cell_type": "code",
      "source": [
        "def penjumlahan(x,y):\n",
        "  return x+y\n",
        "\n",
        "a = penjumlahan \n",
        "a(1,2)"
      ],
      "metadata": {
        "id": "KjXf3ZdFfem-"
      },
      "execution_count": null,
      "outputs": []
    },
    {
      "cell_type": "markdown",
      "source": [
        "#Lambda"
      ],
      "metadata": {
        "id": "hK3PwcX8fl1_"
      }
    },
    {
      "cell_type": "markdown",
      "source": [
        "Fungsi Lambda adalah fungsi anonim ```one line``` yang didefinisikan tanpa nama. Fungsi lambda dapat mengambil sejumlah ```argumen```, tetapi hanya dapat memiliki satu ```expression```. Sementara fungsi normal didefinisikan menggunakan kata kunci ```def```,  dalam python fungsi anonim didefinisikan menggunakan kata kunci lambda. \n",
        "\n",
        "Fungsi Lambda digunakan ketika fungsi sederhana hanya digunakan sekali atau untuk waktu yang singkat dalam kode kita. Penggunaannya yang paling umum adalah sebagai argumen untuk fungsi tingkat tinggi (fungsi yang menggunakan fungsi lain sebagai argumen)."
      ],
      "metadata": {
        "id": "Fxp5zo-OftDQ"
      }
    },
    {
      "cell_type": "markdown",
      "source": [
        "Lambda expression di python adalah sebuah ekspresi untuk membuat fungsi. \n",
        "\n",
        "Lambda sendiri berasal dari teori kalkulus, yakni lambda calculus yang dikenalkan olah Alonzo Church ditahun 1930. \n",
        "\n",
        "Berkat lambda, kita bisa membuat fungsi tanpa nama atau di kenal juga dengan anonymous function.\n",
        "\n",
        "Misalkan kita punya fungsi penjumlahan kuadrat seperti ini :"
      ],
      "metadata": {
        "id": "mGT7FAUAfv23"
      }
    },
    {
      "cell_type": "code",
      "source": [
        "def suqare_sum(x,y):\n",
        "  return x**2 + y**2"
      ],
      "metadata": {
        "id": "pTyl7jtvf1cM"
      },
      "execution_count": null,
      "outputs": []
    },
    {
      "cell_type": "markdown",
      "source": [
        "Dengan Lambda, kita tidak perlu menggunakan def dan return, bahkan kita juga tidak perlu menuliskan namanya."
      ],
      "metadata": {
        "id": "gyNYqFfRf2rn"
      }
    },
    {
      "cell_type": "code",
      "source": [
        "lambda x,y : x**2 + y**2"
      ],
      "metadata": {
        "id": "vBlEMhWFf754"
      },
      "execution_count": null,
      "outputs": []
    },
    {
      "cell_type": "markdown",
      "source": [
        "##Menggunkan lambda Expression"
      ],
      "metadata": {
        "id": "uLx88tqAf9p8"
      }
    },
    {
      "cell_type": "markdown",
      "source": [
        "Intinya, lambda digunakan untuk membuat fungsi dalam satu bari ekspresi. \n",
        "\n",
        "Ini adalah format untuk membuat fungsi lambda:\n"
      ],
      "metadata": {
        "id": "vi08EecUgFMM"
      }
    },
    {
      "cell_type": "markdown",
      "source": [
        "Lambda bisa memiliki lebih dari satu argumen atau parameter, tapi hanya bisa memiliki satu ekspresi atau isi."
      ],
      "metadata": {
        "id": "u2eGj89kgLS7"
      }
    },
    {
      "cell_type": "code",
      "source": [
        "greeting = lambda name: print(f\"hello , {name}\")"
      ],
      "metadata": {
        "id": "wH0heJRJgODj"
      },
      "execution_count": null,
      "outputs": []
    },
    {
      "cell_type": "markdown",
      "source": [
        "karena fungsi lambda tidak punya nama jadi kita butuh variabel untuk menyimpannya.\n",
        "\n",
        "Nanti saat kita mau panggil kita tinggal tuliskan saja nama variabelnya seperti ini:"
      ],
      "metadata": {
        "id": "eDatTbk5gRZ2"
      }
    },
    {
      "cell_type": "code",
      "source": [
        "greeting(\"Dian\")\n",
        "greeting(\"Ayu\")"
      ],
      "metadata": {
        "id": "5gPM1D5AgUwY"
      },
      "execution_count": null,
      "outputs": []
    },
    {
      "cell_type": "markdown",
      "source": [
        "Beberapa contoh penggunaan fungsi lambda "
      ],
      "metadata": {
        "id": "tOEhbNeLgWod"
      }
    },
    {
      "cell_type": "code",
      "source": [
        "#Fungsi lambda untuk menambahkan angka 10 kepada argumen input\n",
        "f = lambda x: x+10 \n",
        "val1 = f(5)\n",
        "val2 = f(100)\n",
        "print(val1, val2)"
      ],
      "metadata": {
        "id": "FaKGjWaBgY6X"
      },
      "execution_count": null,
      "outputs": []
    },
    {
      "cell_type": "code",
      "source": [
        "#Fungsi lambda untuk mengalikan dua argumen input dan menampilkan hasilnya\n",
        "f = lambda x,y: x*y\n",
        "val3 = f(2,10)\n",
        "val4 = f(7,5)\n",
        "print(val3, val4)"
      ],
      "metadata": {
        "id": "hNN-bccagZzW"
      },
      "execution_count": null,
      "outputs": []
    },
    {
      "cell_type": "markdown",
      "source": [
        "##Anonymous Function"
      ],
      "metadata": {
        "id": "nNTrtJmpghB1"
      }
    },
    {
      "cell_type": "markdown",
      "source": [
        "Karena lambda adalah anonymous function, ia akan bebas menggunakan nama apa saja. Dengan kata lain, fungsi lambda bisa disimpan di variabel manapun. Ini tentunya tidak bisa dilakukan oleh fungsi yang dibuat dengan def. Coba perhatikan ini :"
      ],
      "metadata": {
        "id": "VgzzMil-gm7J"
      }
    },
    {
      "cell_type": "code",
      "source": [
        "def say_hello(name):\n",
        "  print(f\"hello {name}, apa kabar ?\")\n",
        "\n",
        "ucapin = say_hello(name)"
      ],
      "metadata": {
        "id": "NuFnJn3dgqZo"
      },
      "execution_count": null,
      "outputs": []
    },
    {
      "cell_type": "markdown",
      "source": [
        "saya mencoba membuat fungsi say_hello() dengan def, kemudianmenyimpannya kedalam variabel ucapin\n",
        "\n",
        "Tapi malah error!\n",
        "\n",
        "Ini karena fungsi tersebut bukanlah fungsi anonymous yang boleh diubah ubah namanya. \n",
        "\n",
        "Lalu coba perhatikan dibaris terakhir, fungsi lambda greeting() yang sudah dibuat  disimpan lagi ke variabel yang berbeda, yakni sapa."
      ],
      "metadata": {
        "id": "QO7YpwS2gstF"
      }
    },
    {
      "cell_type": "code",
      "source": [
        "greeting = lambda name: print(f\"hello, {name}\")\n",
        "sapa = greeting\n",
        "greeting(\"Andi\")\n",
        "sapa(\"Neli\")"
      ],
      "metadata": {
        "id": "SYuf2Fttgw5O"
      },
      "execution_count": null,
      "outputs": []
    },
    {
      "cell_type": "markdown",
      "source": [
        "Hasilnya tidak error, karena ini adalah fungsi anonymous atau lambda."
      ],
      "metadata": {
        "id": "EWJOkosmg0LY"
      }
    },
    {
      "cell_type": "markdown",
      "source": [
        "##Eksekusi Lambda secara langsung"
      ],
      "metadata": {
        "id": "o8oBflzvrk3Q"
      }
    },
    {
      "cell_type": "markdown",
      "source": [
        "Eksekusi lambda secara langsung kelebihan fungsi lambda dibandingkan def adalah bisa kita eksekusi langsung \n",
        "\n",
        "Contohnya :"
      ],
      "metadata": {
        "id": "TQOHctHIrpHI"
      }
    },
    {
      "cell_type": "code",
      "source": [
        "(lambda x,y: x**2 + y**2)(12,6)"
      ],
      "metadata": {
        "id": "n6laR2AJrsKQ"
      },
      "execution_count": null,
      "outputs": []
    },
    {
      "cell_type": "code",
      "source": [
        "hasil = (lambda x,y: x**2 + y**2)(4,6)"
      ],
      "metadata": {
        "id": "pa3CcnskrwXS"
      },
      "execution_count": null,
      "outputs": []
    },
    {
      "cell_type": "markdown",
      "source": [
        "##Mengapa Harus paka Lambda "
      ],
      "metadata": {
        "id": "RnNg_5ibr6XU"
      }
    },
    {
      "cell_type": "markdown",
      "source": [
        "Kita memang tidak harus selalu menggunakan lambda, tapi dalam kasus tertentu lambda lebih baik dibandingkan fungsi biasa.\n",
        "\n",
        "lambda biasanya dibutuhkan saat kita ingin membuat fungsi dalam satu baris.\n",
        "\n",
        "Biasanya saat menggunakan fungsi fungsi seperti ```filter()```,```map()```, dan ```reduce()``` kita akan membutuhkan lambda.\n",
        "\n",
        "mengapa?\n",
        "\n",
        "Karena fungsi fungsi tersebut membutuhkan parameter fungsi \n",
        "\n",
        "contoh :\n"
      ],
      "metadata": {
        "id": "v3XRgnzTr-wG"
      }
    },
    {
      "cell_type": "code",
      "source": [
        "bilangan = [10,2,8,7,5,4,3,11,0,1]\n",
        "filtered_result = map (lambda x: x*x, bilangan)\n",
        "print(list(filtered_result))"
      ],
      "metadata": {
        "id": "E5APPqRbr__g"
      },
      "execution_count": null,
      "outputs": []
    },
    {
      "cell_type": "markdown",
      "source": [
        "Pada fungsi map() kita memberikan parameter dengan fungsi lambda.\n",
        "\n",
        "Mengapa bisa begitu?\n",
        "\n",
        "Karena lambda bisa disimpan ke dalam variabel, otomatis dia akan bisa juga jadi parameter.\n",
        "\n",
        "Satu lagi contoh dengan fungsi filter():\n"
      ],
      "metadata": {
        "id": "HMLRfcYisDqg"
      }
    },
    {
      "cell_type": "code",
      "source": [
        "# menentukan bilangan genap\n",
        "genap = lambda x: x%2 == 0\n",
        "list(filter(genap, range(11)))"
      ],
      "metadata": {
        "id": "vDcEK0I0sGcI"
      },
      "execution_count": null,
      "outputs": []
    },
    {
      "cell_type": "code",
      "source": [
        "# menentukan bilangan ganjil\n",
        "ganjil = lambda x: x%2 == 1\n",
        "list(filter(ganjil, range(11)))"
      ],
      "metadata": {
        "id": "QNOZPvFKsIsq"
      },
      "execution_count": null,
      "outputs": []
    }
  ]
}