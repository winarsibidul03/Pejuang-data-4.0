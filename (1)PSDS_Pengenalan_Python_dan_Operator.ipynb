{
  "nbformat": 4,
  "nbformat_minor": 0,
  "metadata": {
    "colab": {
      "provenance": [],
      "toc_visible": true,
      "authorship_tag": "ABX9TyPaR28MtmBkCtYPdOTtnOqY",
      "include_colab_link": true
    },
    "kernelspec": {
      "name": "python3",
      "display_name": "Python 3"
    },
    "language_info": {
      "name": "python"
    }
  },
  "cells": [
    {
      "cell_type": "markdown",
      "metadata": {
        "id": "view-in-github",
        "colab_type": "text"
      },
      "source": [
        "<a href=\"https://colab.research.google.com/github/winarsibidul03/Pejuang-data-4.0/blob/main/(1)PSDS_Pengenalan_Python_dan_Operator.ipynb\" target=\"_parent\"><img src=\"https://colab.research.google.com/assets/colab-badge.svg\" alt=\"Open In Colab\"/></a>"
      ]
    },
    {
      "cell_type": "markdown",
      "source": [
        "**Nama : Winarsi J. Bidul** \n",
        "\n",
        "**NIM  : 2000015011**\n",
        "\n",
        "**Kelas Dasar**"
      ],
      "metadata": {
        "id": "dR2-UFHP-1HY"
      }
    },
    {
      "cell_type": "markdown",
      "source": [
        "# PENGENALAN PYTHON"
      ],
      "metadata": {
        "id": "SxNT7auzRtWa"
      }
    },
    {
      "cell_type": "markdown",
      "source": [
        "**Python** adalah bahasa pemrograman tingkat tinggi dengan dinamic semantics. bersifat object oriented, dan interpraetatif. Bahasa pemrograman ini fokus dikembangkan pada keterbacaan bahasa pemrograman.\n",
        "\n",
        "1. Bahasa Pemrograman Tingkat Tinggi(HIgh Level Programming) artinya sintaks kode lebih mudah ditafsirkan oleh manusia\n",
        "2. Interpretatifini artinya bahasa ini memerlukan intrepeter atau penerjemah. ini memungkinkan bagi kita untuk menggunakan bahasa yang lebih mudah kita pahami\n",
        "3. Object Oriented ini berarti bahwa bahasa pemrograman ini berorientasi kepada objek. hal ini membuat python lebih mudah untuk dikembangkan\n",
        "4. Dynamic Semantics python secara otomatis akan menyesuaikan tipe dari suatu variable berdasarkan inputnya"
      ],
      "metadata": {
        "id": "INfnv4roRyjH"
      }
    },
    {
      "cell_type": "markdown",
      "source": [
        "## Mengapa python?"
      ],
      "metadata": {
        "id": "JnupxBNLSi5z"
      }
    },
    {
      "cell_type": "markdown",
      "source": [
        "1. Mudah dipahami\n",
        "2. Gratis dan Open Source\n",
        "3. Dinamis\n",
        "4. Memiliki Library Terlengkap untuk Data Sains"
      ],
      "metadata": {
        "id": "o3veFcWzS_Jm"
      }
    },
    {
      "cell_type": "markdown",
      "source": [
        "## Struktur Program Pada Python"
      ],
      "metadata": {
        "id": "SL6Eoy7LTTVp"
      }
    },
    {
      "cell_type": "markdown",
      "source": [
        "Python pada umumnya terdiri dari : \n",
        "\n",
        "**1.   Statements**"
      ],
      "metadata": {
        "id": "PMovigESTe1o"
      }
    },
    {
      "cell_type": "code",
      "source": [
        "print(\"belajar python menyenangkan\")\n",
        "print(\"halo dunia\")"
      ],
      "metadata": {
        "colab": {
          "base_uri": "https://localhost:8080/"
        },
        "id": "eob6TJzcTlfX",
        "outputId": "09f55fee-8d7c-4555-af61-e166b1e11b93"
      },
      "execution_count": null,
      "outputs": [
        {
          "output_type": "stream",
          "name": "stdout",
          "text": [
            "belajar python menyenangkan\n",
            "halo dunia\n"
          ]
        }
      ]
    },
    {
      "cell_type": "markdown",
      "source": [
        "** 2. variabel**"
      ],
      "metadata": {
        "id": "8NFoT2KNTozh"
      }
    },
    {
      "cell_type": "code",
      "source": [
        "bilangan1 = 5\n",
        "bilangan2 = 10 \n",
        "kalimat = \"Pejuang Data 3\""
      ],
      "metadata": {
        "id": "7Q_mE993UAZF"
      },
      "execution_count": null,
      "outputs": []
    },
    {
      "cell_type": "markdown",
      "source": [
        "**3. Literals**: Simbol simbol yang dapat kita gunakan untuk mengisi suatu variabel."
      ],
      "metadata": {
        "id": "L_zWaP-kUyBN"
      }
    },
    {
      "cell_type": "markdown",
      "source": [
        "**4. Operators**: Simbol simbol yang dapat digunakan untuk mengubah nilai dari satu variabel dengan melibatkan satu atau lebih variabel dan literal "
      ],
      "metadata": {
        "id": "tRfQiPH_UzvO"
      }
    },
    {
      "cell_type": "code",
      "source": [
        "A = bilangan1+bilangan2\n",
        "A"
      ],
      "metadata": {
        "colab": {
          "base_uri": "https://localhost:8080/"
        },
        "id": "rg4e7TguVSnu",
        "outputId": "92b48005-ecd4-491d-e46d-9888bf6931d9"
      },
      "execution_count": null,
      "outputs": [
        {
          "output_type": "execute_result",
          "data": {
            "text/plain": [
              "15"
            ]
          },
          "metadata": {},
          "execution_count": 5
        }
      ]
    },
    {
      "cell_type": "markdown",
      "source": [
        "**5. Reserved Words**: Kumpulan kata kata yang memiliki makna khusus dalam bahasa pemrograman python. ```False ```,```return```, dan ```for``` merupakan contoh dari reserved words\n"
      ],
      "metadata": {
        "id": "ypjuFjmA7mWd"
      }
    },
    {
      "cell_type": "markdown",
      "source": [
        "**6. Whitespace**: Pada bahasa python, spasi dan tab memiliki makna khusus untuk menandai serangkain blok dalam kode python. "
      ],
      "metadata": {
        "id": "9nSgBEPL7vyX"
      }
    },
    {
      "cell_type": "markdown",
      "source": [
        "**7. Comments**: Comments merupakan sekumpulan teks yang dituliskan di dalam sebuah program yang tidak akan mempengaruhi hasil dari sebuah program\n",
        "\n"
      ],
      "metadata": {
        "id": "1HXM61qT70sP"
      }
    },
    {
      "cell_type": "markdown",
      "source": [
        "Terdapat dua jenis comments di dalam python, yaitu: \n",
        "\n",
        "**a. single line comment** (comments dalam satu baris) seperti pada contoh berikut:"
      ],
      "metadata": {
        "id": "6TH8CGZA74NV"
      }
    },
    {
      "cell_type": "code",
      "source": [
        "# Ini adalah Comment\n",
        "print(\"belajar python\")"
      ],
      "metadata": {
        "colab": {
          "base_uri": "https://localhost:8080/"
        },
        "id": "D8gknOwX7-so",
        "outputId": "697f8738-b1f8-44d8-be7c-eb0ffb1b63f8"
      },
      "execution_count": null,
      "outputs": [
        {
          "output_type": "stream",
          "name": "stdout",
          "text": [
            "belajar python\n"
          ]
        }
      ]
    },
    {
      "cell_type": "markdown",
      "source": [
        "**b. multi line comment** (comments dalam beberapa baris) yang dapat dituliskan seperti pada contoh berikut: "
      ],
      "metadata": {
        "id": "eJ-6dtc577VV"
      }
    },
    {
      "cell_type": "code",
      "source": [
        "'''\n",
        "Ini adalah komentar panjang \n",
        "Bisa digunakan untuk memberikan penjelasan \n",
        "panjang pada Sell Kode Python,\n",
        "Misal dokumentasi program, spesifikasi \n",
        "input output atau lainnya \n",
        "'''\n",
        "print('Belajar python menyenangkan')"
      ],
      "metadata": {
        "colab": {
          "base_uri": "https://localhost:8080/"
        },
        "id": "G8wtIhW58FTD",
        "outputId": "00f567c0-570f-48ec-878f-b11613cbb1b1"
      },
      "execution_count": null,
      "outputs": [
        {
          "output_type": "stream",
          "name": "stdout",
          "text": [
            "Belajar python menyenangkan\n"
          ]
        }
      ]
    },
    {
      "cell_type": "markdown",
      "source": [
        "# OPERATOR"
      ],
      "metadata": {
        "id": "rNBOCDzgU46v"
      }
    },
    {
      "cell_type": "markdown",
      "source": [
        "#Operator\n",
        "\n",
        "Operator  simbol simbol yang dapat digunakan untuk mengubah nilai dari satu variabel dengan melibatkan satu atau lebih variabel dan literal.\n",
        "Tipe tipe operator :\n",
        "1. Operator Aritmatika\n",
        "2. Operator Assignment\n",
        "3. Operator Pembanding\n",
        "4. Operator Logika\n",
        "5. Operator Membership"
      ],
      "metadata": {
        "id": "IZF8lKex8h_v"
      }
    },
    {
      "cell_type": "markdown",
      "source": [
        "## Operator Aritmatika\n",
        "\n",
        "Operator Aritmatika digunakan untuk melkaukan operasi matematika yang umum. \n",
        "\n",
        "Macam macam Operator Aritmatika, yaitu :\n",
        "\n",
        "```\n",
        "+ : Penjumlahan\n",
        "- : Pengurangan\n",
        "* :Perkalian\n",
        "/ : Pembagian\n",
        "% : Modulus\n",
        "**: Perpangkatan\n",
        "//: Pembagian dengan hasil pembulatan flooring\n",
        "```\n",
        "\n"
      ],
      "metadata": {
        "id": "MTOHetaf8jjM"
      }
    },
    {
      "cell_type": "code",
      "source": [
        "#Contoh Penggunaan Operator Aritmatika\n",
        "#Penjumlahan \n",
        "print('Penjumlahan')\n",
        "print(2+2)\n",
        "#Pengurangan\n",
        "print('Pengurangan')\n",
        "print('-'*20)\n",
        "print(2-3)\n",
        "#Perkalian \n",
        "print('Perkalian')\n",
        "print('-'*20)\n",
        "print(2*3)\n",
        "#Pembagian \n",
        "print('Pembagian')\n",
        "print('-'*20)\n",
        "print(2/3)\n",
        "#Modulus\n",
        "print('Modulus')\n",
        "print('-'*20)\n",
        "print(3%2)\n",
        "#Perpangkatan\n",
        "print('Perpangkatan')\n",
        "print('-'*20)\n",
        "print(2**3)\n",
        "#Pembagian dengan hasil pembulatan flooring\n",
        "print('Pembagian pembulatan flooring')\n",
        "print('-'*20)\n",
        "print(3//2)"
      ],
      "metadata": {
        "id": "d2eT_X5U8qIu"
      },
      "execution_count": null,
      "outputs": []
    },
    {
      "cell_type": "markdown",
      "source": [
        "## LATIHAN "
      ],
      "metadata": {
        "id": "SNH077sF8ncG"
      }
    },
    {
      "cell_type": "markdown",
      "source": [
        "### Penjumlahan "
      ],
      "metadata": {
        "id": "43P1AWm29Cbm"
      }
    },
    {
      "cell_type": "code",
      "source": [
        "a = 100 ; b = 200\n",
        "print ('Pemjumlahan')\n",
        "print (a+b)"
      ],
      "metadata": {
        "colab": {
          "base_uri": "https://localhost:8080/"
        },
        "id": "VtqbcSxi9l3Q",
        "outputId": "533047e7-fc84-44bc-c44a-28ee35ae9794"
      },
      "execution_count": null,
      "outputs": [
        {
          "output_type": "stream",
          "name": "stdout",
          "text": [
            "Pemjumlahan\n",
            "300\n"
          ]
        }
      ]
    },
    {
      "cell_type": "markdown",
      "source": [
        "### Pengurangan "
      ],
      "metadata": {
        "id": "oXs-jakl9I37"
      }
    },
    {
      "cell_type": "code",
      "source": [
        "a = 100 ; b = 200\n",
        "print ('Pengurangan')\n",
        "print (a-b)"
      ],
      "metadata": {
        "colab": {
          "base_uri": "https://localhost:8080/"
        },
        "id": "H7h-ng-g9pYu",
        "outputId": "055d3fb1-b256-4a76-ce2f-9dc770754846"
      },
      "execution_count": null,
      "outputs": [
        {
          "output_type": "stream",
          "name": "stdout",
          "text": [
            "Pengurangan\n",
            "-100\n"
          ]
        }
      ]
    },
    {
      "cell_type": "markdown",
      "source": [
        "### Perkalian "
      ],
      "metadata": {
        "id": "aPETGoXw9LfD"
      }
    },
    {
      "cell_type": "code",
      "source": [
        "a = 1250 ; b = 15\n",
        "print ('Perkalian')\n",
        "print (a*b)"
      ],
      "metadata": {
        "colab": {
          "base_uri": "https://localhost:8080/"
        },
        "id": "2CYtPNC49rNI",
        "outputId": "1fde6ccb-a800-4ec6-9b59-046de28d9fb0"
      },
      "execution_count": null,
      "outputs": [
        {
          "output_type": "stream",
          "name": "stdout",
          "text": [
            "Perkalian\n",
            "18750\n"
          ]
        }
      ]
    },
    {
      "cell_type": "markdown",
      "source": [
        "### Pembagian "
      ],
      "metadata": {
        "id": "psm8aRxn9OHL"
      }
    },
    {
      "cell_type": "code",
      "source": [
        "a = 1250 ; b = 25\n",
        "print ('Pembagian')\n",
        "print (a/b)"
      ],
      "metadata": {
        "colab": {
          "base_uri": "https://localhost:8080/"
        },
        "id": "2aVEk-ap9upz",
        "outputId": "eb176002-6617-4d8e-a793-fed596b10d44"
      },
      "execution_count": null,
      "outputs": [
        {
          "output_type": "stream",
          "name": "stdout",
          "text": [
            "Pembagian\n",
            "50.0\n"
          ]
        }
      ]
    },
    {
      "cell_type": "markdown",
      "source": [
        "### Modulus"
      ],
      "metadata": {
        "id": "5Lk6729e9QKZ"
      }
    },
    {
      "cell_type": "code",
      "source": [
        "a = 3 ; b = 2\n",
        "print ('Modulus')\n",
        "print (a%b)"
      ],
      "metadata": {
        "colab": {
          "base_uri": "https://localhost:8080/"
        },
        "id": "tV4zzegr9zTA",
        "outputId": "d78be799-5042-4b44-86b4-88b2e27287ed"
      },
      "execution_count": null,
      "outputs": [
        {
          "output_type": "stream",
          "name": "stdout",
          "text": [
            "Modulus\n",
            "1\n"
          ]
        }
      ]
    },
    {
      "cell_type": "markdown",
      "source": [
        "### Perpangkatan "
      ],
      "metadata": {
        "id": "UJl1h-ti9SeR"
      }
    },
    {
      "cell_type": "code",
      "source": [
        "a = 12 ; b = 2\n",
        "print ('Perpangkatan')\n",
        "print (a**b)"
      ],
      "metadata": {
        "colab": {
          "base_uri": "https://localhost:8080/"
        },
        "id": "nRTM8vl192M-",
        "outputId": "72c08b25-8142-4c44-f639-d4a1de49938b"
      },
      "execution_count": null,
      "outputs": [
        {
          "output_type": "stream",
          "name": "stdout",
          "text": [
            "Perpangkatan\n",
            "144\n"
          ]
        }
      ]
    },
    {
      "cell_type": "markdown",
      "source": [
        "### Pembagian dengan hasil pembulatan  flooring"
      ],
      "metadata": {
        "id": "dM1gaNqa9a-y"
      }
    },
    {
      "cell_type": "code",
      "source": [
        "a = 10 ; b = 7\n",
        "print('Pembagian pembulatan flooring')\n",
        "print (a//b)"
      ],
      "metadata": {
        "colab": {
          "base_uri": "https://localhost:8080/"
        },
        "id": "7dWO6_vO84fQ",
        "outputId": "c877d4ac-d651-487f-e8ca-cd4896f7a0e3"
      },
      "execution_count": null,
      "outputs": [
        {
          "output_type": "stream",
          "name": "stdout",
          "text": [
            "Pembagian pembulatan flooring\n",
            "1\n"
          ]
        }
      ]
    }
  ]
}