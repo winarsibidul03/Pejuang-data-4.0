{
  "nbformat": 4,
  "nbformat_minor": 0,
  "metadata": {
    "colab": {
      "provenance": [],
      "toc_visible": true
    },
    "kernelspec": {
      "name": "python3",
      "display_name": "Python 3"
    },
    "language_info": {
      "name": "python"
    }
  },
  "cells": [
    {
      "cell_type": "markdown",
      "source": [
        "**NAMA : WINARSI J. BIDUL**\n",
        "\n",
        "**NIM : 2000015011**\n",
        "\n",
        "**KELAS DASAR**"
      ],
      "metadata": {
        "id": "vK0Pnxt4oLeK"
      }
    },
    {
      "cell_type": "markdown",
      "source": [
        "#Operator Aritmatika "
      ],
      "metadata": {
        "id": "qF3GdtadpsWT"
      }
    },
    {
      "cell_type": "markdown",
      "source": [
        "##Penjumlahan "
      ],
      "metadata": {
        "id": "DcGNdKcLpSOV"
      }
    },
    {
      "cell_type": "code",
      "source": [
        "a = 100 ; b = 200\n",
        "print ('Pemjumlahan')\n",
        "print (a+b)"
      ],
      "metadata": {
        "colab": {
          "base_uri": "https://localhost:8080/"
        },
        "id": "iwQa2OYdpVkO",
        "outputId": "109198dc-9078-40f8-bc73-d28950a7e8af"
      },
      "execution_count": 10,
      "outputs": [
        {
          "output_type": "stream",
          "name": "stdout",
          "text": [
            "Pemjumlahan\n",
            "300\n"
          ]
        }
      ]
    },
    {
      "cell_type": "markdown",
      "source": [
        "##Pengurangan"
      ],
      "metadata": {
        "id": "oviGJ8sdpjDo"
      }
    },
    {
      "cell_type": "code",
      "source": [
        "a = 100 ; b = 200\n",
        "print ('Pengurangan')\n",
        "print (a-b)"
      ],
      "metadata": {
        "colab": {
          "base_uri": "https://localhost:8080/"
        },
        "id": "Ltin8ttOpmt9",
        "outputId": "37f4e7a0-23e0-4bb9-ee22-33cc4f0fd767"
      },
      "execution_count": 11,
      "outputs": [
        {
          "output_type": "stream",
          "name": "stdout",
          "text": [
            "Pengurangan\n",
            "-100\n"
          ]
        }
      ]
    },
    {
      "cell_type": "markdown",
      "source": [
        "##Perkalian "
      ],
      "metadata": {
        "id": "tBMxHE-sq_Rc"
      }
    },
    {
      "cell_type": "code",
      "source": [
        "a = 1250 ; b = 15\n",
        "print ('Perkalian')\n",
        "print (a*b)"
      ],
      "metadata": {
        "colab": {
          "base_uri": "https://localhost:8080/"
        },
        "id": "iintvTvCrCiI",
        "outputId": "01c3a026-b326-41dd-cea5-fa336f870fea"
      },
      "execution_count": 13,
      "outputs": [
        {
          "output_type": "stream",
          "name": "stdout",
          "text": [
            "Perkalian\n",
            "18750\n"
          ]
        }
      ]
    },
    {
      "cell_type": "markdown",
      "source": [
        "##Pembagian"
      ],
      "metadata": {
        "id": "iGH0U5_zrcBT"
      }
    },
    {
      "cell_type": "code",
      "source": [
        "a = 1250 ; b = 25\n",
        "print ('Pembagian')\n",
        "print (a/b)"
      ],
      "metadata": {
        "colab": {
          "base_uri": "https://localhost:8080/"
        },
        "id": "-jlbIE3ure1m",
        "outputId": "f52e3e79-6f6a-4fcb-cb87-889d554b7ed1"
      },
      "execution_count": 14,
      "outputs": [
        {
          "output_type": "stream",
          "name": "stdout",
          "text": [
            "Pembagian\n",
            "50.0\n"
          ]
        }
      ]
    },
    {
      "cell_type": "markdown",
      "source": [
        "##Modulus"
      ],
      "metadata": {
        "id": "FtJ71xKTr1Os"
      }
    },
    {
      "cell_type": "code",
      "source": [
        "a = 3 ; b = 2\n",
        "print ('Modulus')\n",
        "print (a%b)"
      ],
      "metadata": {
        "colab": {
          "base_uri": "https://localhost:8080/"
        },
        "id": "Z3sO29flr6Br",
        "outputId": "1870297b-dd48-4e5e-9b92-a539abf662ee"
      },
      "execution_count": 7,
      "outputs": [
        {
          "output_type": "stream",
          "name": "stdout",
          "text": [
            "Modulus\n",
            "1\n"
          ]
        }
      ]
    },
    {
      "cell_type": "markdown",
      "source": [
        "##Perpangkatan "
      ],
      "metadata": {
        "id": "MmxRh0NZsNtN"
      }
    },
    {
      "cell_type": "code",
      "source": [
        "a = 12 ; b = 2\n",
        "print ('Perpangkatan')\n",
        "print (a**b)"
      ],
      "metadata": {
        "colab": {
          "base_uri": "https://localhost:8080/"
        },
        "id": "mTS1pv1AsYj1",
        "outputId": "82c0c84a-bae1-4c62-d80a-88fbf060884e"
      },
      "execution_count": 8,
      "outputs": [
        {
          "output_type": "stream",
          "name": "stdout",
          "text": [
            "Perpangkatan\n",
            "144\n"
          ]
        }
      ]
    },
    {
      "cell_type": "markdown",
      "source": [
        "##Pembagian dengan hasil pembulatan flooring"
      ],
      "metadata": {
        "id": "5dIc6Dzysysk"
      }
    },
    {
      "cell_type": "code",
      "source": [
        "a = 10 ; b = 7\n",
        "print('Pembagian pembulatan flooring')\n",
        "print (a//b)"
      ],
      "metadata": {
        "colab": {
          "base_uri": "https://localhost:8080/"
        },
        "id": "xN9KJSF2s0Fa",
        "outputId": "30d266b5-4bce-43ef-e83a-4fb4db612502"
      },
      "execution_count": 9,
      "outputs": [
        {
          "output_type": "stream",
          "name": "stdout",
          "text": [
            "Pembagian pembulatan flooring\n",
            "1\n"
          ]
        }
      ]
    }
  ]
}