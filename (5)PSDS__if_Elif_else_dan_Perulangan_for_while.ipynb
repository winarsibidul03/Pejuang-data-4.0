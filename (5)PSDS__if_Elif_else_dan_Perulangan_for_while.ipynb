{
  "nbformat": 4,
  "nbformat_minor": 0,
  "metadata": {
    "colab": {
      "provenance": [],
      "authorship_tag": "ABX9TyOKBxRtEgcaTwYaDjy2R8kR",
      "include_colab_link": true
    },
    "kernelspec": {
      "name": "python3",
      "display_name": "Python 3"
    },
    "language_info": {
      "name": "python"
    }
  },
  "cells": [
    {
      "cell_type": "markdown",
      "metadata": {
        "id": "view-in-github",
        "colab_type": "text"
      },
      "source": [
        "<a href=\"https://colab.research.google.com/github/winarsibidul03/Pejuang-data-4.0/blob/main/(5)PSDS__if_Elif_else_dan_Perulangan_for_while.ipynb\" target=\"_parent\"><img src=\"https://colab.research.google.com/assets/colab-badge.svg\" alt=\"Open In Colab\"/></a>"
      ]
    },
    {
      "cell_type": "markdown",
      "source": [
        "**NAMA : WINARSI J. BIDUL**\n",
        "\n",
        "**NIM : 2000015011**\n",
        "\n",
        "**KELAS DASAR**"
      ],
      "metadata": {
        "id": "4Cl889y39vDU"
      }
    },
    {
      "cell_type": "markdown",
      "source": [
        "#Percabangan/ Struktur Pemilihan \n",
        "Pada bagian ini, kamu akan membuat keputusan pada bahasa pemrograman python menggunakan srtuktur percabangan atau juga sering disebut IF ELSE Statement. pengambilan keputusan dibutuhkan ketika kamu akan mengeksekusi suatu kode jika sebuah kondisi tertentu dipenuhi. \n",
        "Statement```if...elif...else``` digunakan pada bahasa python untuk pengambilan keputusan\n"
      ],
      "metadata": {
        "id": "6TYrVBjZ_Tcy"
      }
    },
    {
      "cell_type": "markdown",
      "source": [
        "##IF Statements\n",
        "python IF Statement syntax\n",
        "\n",
        "\n",
        "\n",
        "```\n",
        "if test expression:\n",
        "\n",
        "statement(s)\n",
        "```\n",
        "\n"
      ],
      "metadata": {
        "id": "7kcoUNCK_Ykg"
      }
    },
    {
      "cell_type": "markdown",
      "source": [
        "##IF ELSE Statements\n",
        "python IF ELSE Statement Syntax\n",
        "\n",
        "```\n",
        "if test expression :\n",
        "    Body of if \n",
        "else : \n",
        "    Body of else \n",
        "```\n",
        "\n"
      ],
      "metadata": {
        "id": "KmwB0muU_q13"
      }
    },
    {
      "cell_type": "code",
      "source": [
        "# Program disusun untuk mengecek apakah angka tersebut kurang dari 0 atau tidak \n",
        "# dan menampilkan tulisan yang sesuai \n",
        "\n",
        "angka = 3\n",
        "if angka >= 0: \n",
        "    print(\"Bilangan lebih dari atau samadengan 0\")\n",
        "else:\n",
        "    print(\"Bilagan kurang dari 0\")"
      ],
      "metadata": {
        "colab": {
          "base_uri": "https://localhost:8080/"
        },
        "id": "OALCawkJ_wZ6",
        "outputId": "798d73f6-f696-4db5-926b-bc583edb216a"
      },
      "execution_count": 7,
      "outputs": [
        {
          "output_type": "stream",
          "name": "stdout",
          "text": [
            "Bilangan lebih dari atau samadengan 0\n"
          ]
        }
      ]
    },
    {
      "cell_type": "code",
      "source": [
        "# Program disusun untuk mengecek apakah dua buah angka sama atau tidak \n",
        "# dan menuliskan tulisan yang sesuai\n",
        "\n",
        "a = 5 \n",
        "b = 5 \n",
        "\n",
        "if a==b:\n",
        "    print(\"a dan b bernilai sama\")\n",
        "else: \n",
        "    print(\"a dan b bernilai berbeda\")\n",
        "    print(\"belajar If Else\")"
      ],
      "metadata": {
        "colab": {
          "base_uri": "https://localhost:8080/"
        },
        "id": "YrrC77ak_zgw",
        "outputId": "f6c9ad64-ab4a-4e91-f5a0-ded383021e01"
      },
      "execution_count": 8,
      "outputs": [
        {
          "output_type": "stream",
          "name": "stdout",
          "text": [
            "a dan b bernilai sama\n"
          ]
        }
      ]
    },
    {
      "cell_type": "code",
      "source": [
        "# Program disusun untuk mengecek apakah perbandingan dua buah angka \n",
        "# dan menampilkan tulisan yang sesuai \n",
        "\n",
        "# membaca dua angka\n",
        "bil1 = int(input(\"Masukkan bilangan pertama : \"))\n",
        "bil2 = int(input(\"Masukkan bilangan kedua: \"))\n",
        "\n",
        "# memilih bilangan yang lebih besar \n",
        "if bil1 > bil2: \n",
        "    bil_lebih_besar = bil1\n",
        "else: \n",
        "    bil_lebih_besar = bil2\n",
        "\n",
        "# menampilkan hasil \n",
        "print(\"Bilangan yang lebih besar adalah:\", bil_lebih_besar)"
      ],
      "metadata": {
        "colab": {
          "base_uri": "https://localhost:8080/"
        },
        "id": "YTAMI7zf_2Rn",
        "outputId": "9fcbf1cf-3b95-41e0-a6e1-305d37e3435d"
      },
      "execution_count": 9,
      "outputs": [
        {
          "output_type": "stream",
          "name": "stdout",
          "text": [
            "Masukkan bilangan pertama : 34\n",
            "Masukkan bilangan kedua: 30\n",
            "Bilangan yang lebih besar adalah: 34\n"
          ]
        }
      ]
    },
    {
      "cell_type": "markdown",
      "source": [
        "##IF ELSE Statements\n",
        "\n",
        "Python IF ELIF ELSE statement syntax\n",
        "\n",
        "\n",
        "\n",
        "```\n",
        "if test expression: \n",
        "    Body of if\n",
        "elif test expression:\n",
        "    Body of elif\n",
        "else:\n",
        "    Body of else\n",
        "```\n"
      ],
      "metadata": {
        "id": "U9ixD6ou_-LY"
      }
    },
    {
      "cell_type": "code",
      "source": [
        "# Program disusun untuk mengecel apakah angka merupakan bilangan positif, negatif atau nol \n",
        "# dan menampilkan tulisan yang sesuai \n",
        "\n",
        "angka = 3.4\n",
        "if angka > 0:\n",
        "    print(\"Bilangan positif\")\n",
        "elif num == 0:\n",
        "    print(\"Nol\")\n",
        "else:\n",
        "    print(\"Bilangan Negatif\")\n",
        "  "
      ],
      "metadata": {
        "colab": {
          "base_uri": "https://localhost:8080/"
        },
        "id": "EbM6Zvv1AN8V",
        "outputId": "69ad2d0b-9398-42fd-b028-f09e0a085732"
      },
      "execution_count": 10,
      "outputs": [
        {
          "output_type": "stream",
          "name": "stdout",
          "text": [
            "Bilangan positif\n"
          ]
        }
      ]
    },
    {
      "cell_type": "code",
      "source": [
        "# Statement if \n",
        "x = 4\n",
        "if x % 2 == 0: # jika x dibagi 2 sisanya samadengan 0\n",
        "    print(\"x habis dibagi dua\")\n",
        "\n",
        "# Statement if ... elif ... else\n",
        "x = 7 \n",
        "if x % 2 == 0: # jika x dibagi 2 sisanya samadengan 0\n",
        "    print(\"x habis dibagi dua\")\n",
        "elif x % 3 == 0: # jika dibagi 3 sisanya samadengan 0 \n",
        "    print(\"x habis dibagi tiga\")\n",
        "elif x % 5 == 0: # jika dibagi 5 sisanya samadengan 0 \n",
        "    print(\"x habis dibagi lima\")\n",
        "else:\n",
        "    print(\"x tidak habis dibagi dua, tiga ataupun lima\")\n",
        "    "
      ],
      "metadata": {
        "colab": {
          "base_uri": "https://localhost:8080/"
        },
        "id": "H5oE-090AQ58",
        "outputId": "f8939f68-d5f2-4d11-896e-329396169a99"
      },
      "execution_count": 11,
      "outputs": [
        {
          "output_type": "stream",
          "name": "stdout",
          "text": [
            "x habis dibagi dua\n",
            "x tidak habis dibagi dua, tiga ataupun lima\n"
          ]
        }
      ]
    },
    {
      "cell_type": "markdown",
      "source": [
        "##Python Nested IF Statements\n"
      ],
      "metadata": {
        "id": "z81FcEmIAWCT"
      }
    },
    {
      "cell_type": "code",
      "source": [
        "# Program disusun untuk mengecek apakah angka merupakan bilangan positif, negatif atau nol \n",
        "# dan menampilkan tulisan yang sesuai \n",
        "\n",
        "angka = float(input(\"Masukkan angka: \"))\n",
        "if angka >= 0:\n",
        "    if angka == 0: \n",
        "        print(\"Nol\")\n",
        "    else:\n",
        "        print(\"Bilangan Positif\")\n",
        "else:\n",
        "    print(\"Bilangan negatif\")"
      ],
      "metadata": {
        "colab": {
          "base_uri": "https://localhost:8080/"
        },
        "id": "mxBZcWMbAYSG",
        "outputId": "1eaa8704-c4ca-42cd-c33a-dbf1a8ab2ae6"
      },
      "execution_count": 12,
      "outputs": [
        {
          "output_type": "stream",
          "name": "stdout",
          "text": [
            "Masukkan angka: 22\n",
            "Bilangan Positif\n"
          ]
        }
      ]
    },
    {
      "cell_type": "markdown",
      "source": [
        "#Looping/ Perulangan \n",
        "Python menyediakan dua statement untuk melakukan proses perulangan yaitu for dan while. Diantara kedua statement ini, secara umum for lebih banyak digunakan dari pada while"
      ],
      "metadata": {
        "id": "LvqJINpk9zru"
      }
    },
    {
      "cell_type": "markdown",
      "source": [
        "##For Loop\n",
        "Perlangan ```for``` digunakan untuk melakukan Iterasi dalam ```squence``` sepert ```list```, ```tuple```, ```string```, ```array``` atau objek yang dapat diiterasi lainnya."
      ],
      "metadata": {
        "id": "MNyXKHDm-HP8"
      }
    },
    {
      "cell_type": "markdown",
      "source": [
        "**For Loop Syntax**\n",
        "\n",
        "```\n",
        "for val in sequence:\n",
        "    loop body\n",
        "```"
      ],
      "metadata": {
        "id": "m7KjXyrq-TIc"
      }
    },
    {
      "cell_type": "code",
      "execution_count": 3,
      "metadata": {
        "colab": {
          "base_uri": "https://localhost:8080/"
        },
        "id": "-ogRUokE9Nob",
        "outputId": "0a71f396-5e8a-4977-bc76-838bd45ab318"
      },
      "outputs": [
        {
          "output_type": "stream",
          "name": "stdout",
          "text": [
            "27\n"
          ]
        }
      ],
      "source": [
        "# Program untuk menghitung jumlah semua angka dalam sebuah list\n",
        "L1 = [2, 4, 5, 7, 9 ]\n",
        "jumlah = 0\n",
        "\n",
        "#Iterasi di dalam List\n",
        "for i in L1:\n",
        "  jumlah = jumlah + i\n",
        "\n",
        "print(jumlah)"
      ]
    },
    {
      "cell_type": "markdown",
      "source": [
        "##The Range() function"
      ],
      "metadata": {
        "id": "xIEUuZ79-YIS"
      }
    },
    {
      "cell_type": "code",
      "source": [
        "# Program untuk melakukan iterasi didunia list melalui indeks\n",
        "minuman =[\"teh\", \"boba\", \"kopi\", \"susu\"]\n",
        "p = len(minuman)\n",
        "\n",
        "#Iterasi di dalam list melalui indeks\n",
        "for i in range(p):\n",
        "  print(minuman[i])"
      ],
      "metadata": {
        "colab": {
          "base_uri": "https://localhost:8080/"
        },
        "id": "4J_y6qeg-aQC",
        "outputId": "2ea60baa-92c6-47c6-bad5-c55c013b0afa"
      },
      "execution_count": 1,
      "outputs": [
        {
          "output_type": "stream",
          "name": "stdout",
          "text": [
            "teh\n",
            "boba\n",
            "kopi\n",
            "susu\n"
          ]
        }
      ]
    },
    {
      "cell_type": "markdown",
      "source": [
        "#For Loop with Else"
      ],
      "metadata": {
        "id": "UsGNXz3A-cqG"
      }
    },
    {
      "cell_type": "code",
      "source": [
        "#Contoh for Loop menggunakan else\n",
        "for i in range(p):\n",
        "  print(minuman[i])\n",
        "else:\n",
        "  print(\"Elemen sudah habis\")"
      ],
      "metadata": {
        "colab": {
          "base_uri": "https://localhost:8080/"
        },
        "id": "BXF0zSfT-eZ2",
        "outputId": "58a371d0-1d81-41cc-8afd-d7bf45683032"
      },
      "execution_count": 2,
      "outputs": [
        {
          "output_type": "stream",
          "name": "stdout",
          "text": [
            "teh\n",
            "boba\n",
            "kopi\n",
            "susu\n",
            "Elemen sudah habis\n"
          ]
        }
      ]
    },
    {
      "cell_type": "markdown",
      "source": [
        "##While Loop\n",
        "While loop pada python digunakan untuk melakukan iterasi pada blok kode selama nilai dari ```test expression``` adalah ```true```, \n",
        "\n",
        "While loop pada python digunakan untuk melakukan iterasi pada blok kode selama nilai dari ```test expression``` adalah ```true```,\n",
        "\n",
        "```\n",
        "while test_expression:\n",
        "    Body of while\n",
        "```"
      ],
      "metadata": {
        "id": "sIOKXpi3-m5M"
      }
    },
    {
      "cell_type": "code",
      "source": [
        "# Program untuk menjumlahkan semua\n",
        "# bilangan asli hingga suku ke-n\n",
        "# jum = 1+2+3...+n\n",
        "\n",
        "n = 10\n",
        "jumlah = 0\n",
        "i = 1\n",
        "\n",
        "while i<= n:\n",
        "  jumlah = jumlah + i\n",
        "  i = i + 1\n",
        "\n",
        "print (jumlah)"
      ],
      "metadata": {
        "colab": {
          "base_uri": "https://localhost:8080/"
        },
        "id": "p4N3mvjw-4rk",
        "outputId": "08dcf4d4-44e1-4357-f235-ea0c3e7635e5"
      },
      "execution_count": 4,
      "outputs": [
        {
          "output_type": "stream",
          "name": "stdout",
          "text": [
            "55\n"
          ]
        }
      ]
    },
    {
      "cell_type": "markdown",
      "source": [
        "##While Looop with Else\n",
        "sama dengan ```for``` loop kita juga akan dapat mengkombinasikan ```while``` loop dengan blok ```else```.\n",
        "\n",
        "Bagian ```else``` akan dieksekusi jika nilai  pada ```test expression`` pada ```while loop``` bernilai ```False```. \n",
        "\n",
        "Perhatikan Contoh berikut :\n"
      ],
      "metadata": {
        "id": "ekIag0eE_C51"
      }
    },
    {
      "cell_type": "code",
      "source": [
        "jum = 0\n",
        "i = 1\n",
        "while i <= n:\n",
        "  jum = jum + i\n",
        "  i = i + 1\n",
        "else:\n",
        "  print(jum) #Dieksekusi diluar looping "
      ],
      "metadata": {
        "colab": {
          "base_uri": "https://localhost:8080/"
        },
        "id": "WeV6lapj_K0C",
        "outputId": "7f48b55b-251a-41f8-9834-c636f957e7a0"
      },
      "execution_count": 5,
      "outputs": [
        {
          "output_type": "stream",
          "name": "stdout",
          "text": [
            "55\n"
          ]
        }
      ]
    }
  ]
}