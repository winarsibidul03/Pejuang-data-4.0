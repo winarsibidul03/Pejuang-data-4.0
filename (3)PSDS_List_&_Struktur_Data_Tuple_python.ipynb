{
  "nbformat": 4,
  "nbformat_minor": 0,
  "metadata": {
    "colab": {
      "provenance": [],
      "authorship_tag": "ABX9TyNRv6hMtzexKG63Ukmy+8bm",
      "include_colab_link": true
    },
    "kernelspec": {
      "name": "python3",
      "display_name": "Python 3"
    },
    "language_info": {
      "name": "python"
    }
  },
  "cells": [
    {
      "cell_type": "markdown",
      "metadata": {
        "id": "view-in-github",
        "colab_type": "text"
      },
      "source": [
        "<a href=\"https://colab.research.google.com/github/winarsibidul03/Pejuang-data-4.0/blob/main/(3)PSDS_List_%26_Struktur_Data_Tuple_python.ipynb\" target=\"_parent\"><img src=\"https://colab.research.google.com/assets/colab-badge.svg\" alt=\"Open In Colab\"/></a>"
      ]
    },
    {
      "cell_type": "markdown",
      "source": [
        "**Nama : Winarsi J. Bidul** \n",
        "\n",
        "**NIM  : 2000015011**\n",
        "\n",
        "**Kelas Dasar**"
      ],
      "metadata": {
        "id": "F1U3Ay6sCRRA"
      }
    },
    {
      "cell_type": "markdown",
      "source": [
        "#List"
      ],
      "metadata": {
        "id": "Xige5p5lXzLG"
      }
    },
    {
      "cell_type": "markdown",
      "source": [
        "List adalah jenis kumpulan data terurut (ordered sequence) dan merupakan salah satu dari variabel yang sering digunakan di phyton. Serupa namun tak sama dengan array pada bahasa pemrograman. Bedanya, elemen List pada Phyton tidak harus memiliki tipe data yang sama. Mendeklarasikan List cukup mudah dengan kurung siku dan elemen yang dipisahkan dengan koma. Setiap data didalamnya dapat diakses dengan indeks yang dimulai dari 0."
      ],
      "metadata": {
        "id": "PdprD1u8XwY-"
      }
    },
    {
      "cell_type": "code",
      "execution_count": null,
      "metadata": {
        "colab": {
          "base_uri": "https://localhost:8080/"
        },
        "id": "K4_CMGIXXZLb",
        "outputId": "eb11f364-4fb4-470d-9c11-3231b3d85176"
      },
      "outputs": [
        {
          "output_type": "stream",
          "name": "stdout",
          "text": [
            "<class 'list'>\n"
          ]
        }
      ],
      "source": [
        "#Contoh List\n",
        "L1 = [1, 4, 2, 13]\n",
        "\n",
        "print(type(L1)) #untuk men"
      ]
    },
    {
      "cell_type": "code",
      "source": [
        "L2 = [\"a\",\"Python\",3]\n",
        "L2"
      ],
      "metadata": {
        "colab": {
          "base_uri": "https://localhost:8080/"
        },
        "id": "AgwbDUVwYNBs",
        "outputId": "f09f03c1-c6c2-4e9a-8a34-83684b110639"
      },
      "execution_count": null,
      "outputs": [
        {
          "output_type": "execute_result",
          "data": {
            "text/plain": [
              "['a', 'Python', 3]"
            ]
          },
          "metadata": {},
          "execution_count": 1
        }
      ]
    },
    {
      "cell_type": "code",
      "source": [
        "print(L1)\n",
        "print(L2)"
      ],
      "metadata": {
        "colab": {
          "base_uri": "https://localhost:8080/"
        },
        "id": "JFkm9g2aYSlH",
        "outputId": "35b2387a-0f36-4d92-e8af-e0ead4845426"
      },
      "execution_count": null,
      "outputs": [
        {
          "output_type": "stream",
          "name": "stdout",
          "text": [
            "[1, 4, 2, 13]\n",
            "['a', 'Python', 3]\n"
          ]
        }
      ]
    },
    {
      "cell_type": "code",
      "source": [
        "matkul = [ \"fuzzy\", \"pdp\",\"metnum\",\"matkeu\"]\n",
        "print(matkul[2])\n",
        "print(matkul[2])\n",
        "print(matkul[2:])\n",
        "print(matkul[2:3])\n",
        "print(matkul[-2])\n",
        "print(matkul[-3:-1])\n",
        "print(matkul[-1])"
      ],
      "metadata": {
        "colab": {
          "base_uri": "https://localhost:8080/"
        },
        "id": "ax4xMMnnaIHV",
        "outputId": "7db72c1f-c168-4890-c62c-f2683e5fe2a7"
      },
      "execution_count": null,
      "outputs": [
        {
          "output_type": "stream",
          "name": "stdout",
          "text": [
            "metnum\n",
            "metnum\n",
            "['metnum', 'matkeu']\n",
            "['metnum']\n",
            "metnum\n",
            "['pdp', 'metnum']\n",
            "matkeu\n"
          ]
        }
      ]
    },
    {
      "cell_type": "code",
      "source": [],
      "metadata": {
        "id": "INubSuSxblte"
      },
      "execution_count": null,
      "outputs": []
    },
    {
      "cell_type": "code",
      "source": [
        "S1= [1,\"math\",2.5,True,\"python\",\"A\"]\n",
        "print(S1[2])\n",
        "print(S1[2:])\n",
        "print(S1[2:3])\n",
        "print(S1[-2])\n",
        "print(S1[-3:-1])\n",
        "print(S1[-1])\n",
        "print(type(S1))"
      ],
      "metadata": {
        "colab": {
          "base_uri": "https://localhost:8080/"
        },
        "id": "DvzG4dL2bwN0",
        "outputId": "78ccc2ee-5e77-445b-e245-66a4fdd7f0b6"
      },
      "execution_count": null,
      "outputs": [
        {
          "output_type": "stream",
          "name": "stdout",
          "text": [
            "2.5\n",
            "[2.5, True, 'python', 'A']\n",
            "[2.5]\n",
            "python\n",
            "[True, 'python']\n",
            "A\n",
            "<class 'list'>\n"
          ]
        }
      ]
    },
    {
      "cell_type": "markdown",
      "source": [
        "## Latihan"
      ],
      "metadata": {
        "id": "q4YRd4q0CO-M"
      }
    },
    {
      "cell_type": "code",
      "source": [
        "#Buatlah List kalian sendiri\n",
        "M1 = [3,4,2,1,3,2,1]\n",
        "\n",
        "print(type(M1))\n",
        "M2 = [\"I\",\"love\",\"math\",3000]\n",
        "M2\n"
      ],
      "metadata": {
        "colab": {
          "base_uri": "https://localhost:8080/"
        },
        "id": "W-Na0kFPYbzV",
        "outputId": "95e2efe2-2d44-48ff-f679-32027270e743"
      },
      "execution_count": null,
      "outputs": [
        {
          "output_type": "stream",
          "name": "stdout",
          "text": [
            "<class 'list'>\n"
          ]
        },
        {
          "output_type": "execute_result",
          "data": {
            "text/plain": [
              "['I', 'love', 'math', 3000]"
            ]
          },
          "metadata": {},
          "execution_count": 2
        }
      ]
    },
    {
      "cell_type": "code",
      "source": [
        "#Sifat sifat List\n",
        "\n",
        "#Terurut / Ordered\n",
        "print(\"Memanggil List L1 dengan indeks ururtan:\", L1[0:3])\n",
        "\n",
        "#Bisa Diganti / Mutable\n",
        "L1[1] = 2\n",
        "print(\"List L1 setelah diganti elemennya:\", L1)\n",
        "\n",
        "L1 = [1, \"dua\", True, 2+3j]\n",
        "\n",
        "#Dapat Diindeks  / Slicing\n",
        "print(\"Slicing  List L1:\", L1[3])\n",
        "\n",
        "#Dapat Diijinkan Duplikasi \n",
        "L1 = [1, \"dua\", True, 2+3j, 2+3j]\n",
        "print(\"Duplikasi pada List L1:\", L1)"
      ],
      "metadata": {
        "colab": {
          "base_uri": "https://localhost:8080/"
        },
        "id": "ZC6ufzkcePfs",
        "outputId": "289129f7-e087-4c1d-81f6-5c5bd6f0ce7b"
      },
      "execution_count": null,
      "outputs": [
        {
          "output_type": "stream",
          "name": "stdout",
          "text": [
            "Memanggil List L1 dengan indeks ururtan: [1, 4, 2]\n",
            "List L1 setelah diganti elemennya: [1, 2, 2, 13]\n",
            "Slicing  List L1: (2+3j)\n",
            "Duplikasi pada List L1: [1, 'dua', True, (2+3j), (2+3j)]\n"
          ]
        }
      ]
    },
    {
      "cell_type": "code",
      "source": [
        "#Terurut / Ordered\n",
        "print(\"Memanggil List S1 dengan indeks ururtan:\", S1[0:3])\n",
        "\n",
        "#Bisa Diganti / Mutable\n",
        "S1[1] = 2\n",
        "print(\"List S1 setelah diganti elemennya:\", S1)\n",
        "\n",
        "S1 = [1, \"dua\", True, 2+3j]\n",
        "\n",
        "#Dapat Diindeks  / Slicing\n",
        "print(\"Slicing  List S1:\", S1[3])\n",
        "\n",
        "#Dapat Diijinkan Duplikasi \n",
        "S1 = [1, \"dua\", True, 2+3j, 2+3j]\n",
        "print(\"Duplikasi pada List S1:\", S1)"
      ],
      "metadata": {
        "colab": {
          "base_uri": "https://localhost:8080/"
        },
        "id": "iKPmobNehQgE",
        "outputId": "2086a5ac-4380-479d-a803-38ed8c592521"
      },
      "execution_count": null,
      "outputs": [
        {
          "output_type": "stream",
          "name": "stdout",
          "text": [
            "Memanggil List S1 dengan indeks ururtan: [1, 'math', 2.5]\n",
            "List S1 setelah diganti elemennya: [1, 2, 2.5, True, 'python', 'A']\n",
            "Slicing  List S1: (2+3j)\n",
            "Duplikasi pada List S1: [1, 'dua', True, (2+3j), (2+3j)]\n"
          ]
        }
      ]
    },
    {
      "cell_type": "markdown",
      "source": [
        "#Struktur_Data_Tuple"
      ],
      "metadata": {
        "id": "rRw0udRgjW-7"
      }
    },
    {
      "cell_type": "markdown",
      "source": [
        "Tuple adalah jenis dari struktur data yang tidak dapat diubah elemennya. Umumnya tuple digunakan untuk data yang bersifat sekali tulis dan dapat dieksekusi lebih cepat. Tuple didefinisikan dengan kurung dan elemen yang dipisahkan dengan koma."
      ],
      "metadata": {
        "id": "5-iUUWzvjdK8"
      }
    },
    {
      "cell_type": "code",
      "source": [
        "#Contoh Tuple\n",
        "T1 = (1, \"dua\", True, 1+2j)\n",
        "print(\"Ini adalah Tuple\", T1)"
      ],
      "metadata": {
        "colab": {
          "base_uri": "https://localhost:8080/"
        },
        "id": "TVNCsROgjg80",
        "outputId": "c9661322-9585-4ab2-f65c-d1aa6285fe4f"
      },
      "execution_count": null,
      "outputs": [
        {
          "output_type": "stream",
          "name": "stdout",
          "text": [
            "Ini adalah Tuple (1, 'dua', True, (1+2j))\n"
          ]
        }
      ]
    },
    {
      "cell_type": "code",
      "source": [
        "#Menampilkan tipe struktur data\n",
        "type(T1)"
      ],
      "metadata": {
        "colab": {
          "base_uri": "https://localhost:8080/"
        },
        "id": "MgDaMzspji8C",
        "outputId": "bf3df733-0158-4aa5-daad-a93f75cdf35b"
      },
      "execution_count": null,
      "outputs": [
        {
          "output_type": "execute_result",
          "data": {
            "text/plain": [
              "tuple"
            ]
          },
          "metadata": {},
          "execution_count": 22
        }
      ]
    },
    {
      "cell_type": "markdown",
      "source": [
        "## Sifat sifat tuple"
      ],
      "metadata": {
        "id": "gmNgDxuVDRXL"
      }
    },
    {
      "cell_type": "code",
      "source": [
        "#Terurut / Ordered\n",
        "S1[0:3]"
      ],
      "metadata": {
        "colab": {
          "base_uri": "https://localhost:8080/"
        },
        "id": "jwp41ZgtDaSx",
        "outputId": "a0f235a0-96c0-4744-f96b-cfeb7af404f7"
      },
      "execution_count": null,
      "outputs": [
        {
          "output_type": "execute_result",
          "data": {
            "text/plain": [
              "(1, 'math', 100)"
            ]
          },
          "metadata": {},
          "execution_count": 9
        }
      ]
    },
    {
      "cell_type": "code",
      "source": [
        "#Tidak bisa diganti / Immutable\n",
        "T1[2] = \"manusia\""
      ],
      "metadata": {
        "colab": {
          "base_uri": "https://localhost:8080/",
          "height": 183
        },
        "id": "amRFO7bbDgyh",
        "outputId": "a2b3bd7e-82a2-4656-bd08-61992162befd"
      },
      "execution_count": null,
      "outputs": [
        {
          "output_type": "error",
          "ename": "NameError",
          "evalue": "ignored",
          "traceback": [
            "\u001b[0;31m---------------------------------------------------------------------------\u001b[0m",
            "\u001b[0;31mNameError\u001b[0m                                 Traceback (most recent call last)",
            "\u001b[0;32m<ipython-input-10-fa4fab5e190e>\u001b[0m in \u001b[0;36m<module>\u001b[0;34m\u001b[0m\n\u001b[1;32m      1\u001b[0m \u001b[0;31m#Tidak bisa diganti / Immutable\u001b[0m\u001b[0;34m\u001b[0m\u001b[0;34m\u001b[0m\u001b[0;34m\u001b[0m\u001b[0m\n\u001b[0;32m----> 2\u001b[0;31m \u001b[0mT1\u001b[0m\u001b[0;34m[\u001b[0m\u001b[0;36m2\u001b[0m\u001b[0;34m]\u001b[0m \u001b[0;34m=\u001b[0m \u001b[0;34m\"manusia\"\u001b[0m\u001b[0;34m\u001b[0m\u001b[0;34m\u001b[0m\u001b[0m\n\u001b[0m",
            "\u001b[0;31mNameError\u001b[0m: name 'T1' is not defined"
          ]
        }
      ]
    },
    {
      "cell_type": "code",
      "source": [
        "#Dapat Diindeks / Slicing\n",
        "print(\"elemen kedua dari tuple T1 adalah:\", S1[1])"
      ],
      "metadata": {
        "colab": {
          "base_uri": "https://localhost:8080/"
        },
        "id": "k2HI3rIFDmYK",
        "outputId": "0fcbc47b-7a23-43b6-f5b1-a677b69eb985"
      },
      "execution_count": null,
      "outputs": [
        {
          "output_type": "stream",
          "name": "stdout",
          "text": [
            "elemen kedua dari tuple T1 adalah: math\n"
          ]
        }
      ]
    },
    {
      "cell_type": "code",
      "source": [
        "#Dapat Diijinkan Duplikasi\n",
        "T2 = (3, 2.4, True, 2.4)\n",
        "T2"
      ],
      "metadata": {
        "colab": {
          "base_uri": "https://localhost:8080/"
        },
        "id": "sv7jBdVnDqr-",
        "outputId": "2816e689-8a90-4f1c-c7e2-61e118dc12aa"
      },
      "execution_count": null,
      "outputs": [
        {
          "output_type": "execute_result",
          "data": {
            "text/plain": [
              "(3, 2.4, True, 2.4)"
            ]
          },
          "metadata": {},
          "execution_count": 13
        }
      ]
    },
    {
      "cell_type": "markdown",
      "source": [
        "## Menggabungkan Tuple"
      ],
      "metadata": {
        "id": "M8FacJ6aDuSv"
      }
    },
    {
      "cell_type": "code",
      "source": [
        "# menggabungkan tuple \n",
        "T3 = S1 + T2\n",
        "T3"
      ],
      "metadata": {
        "colab": {
          "base_uri": "https://localhost:8080/"
        },
        "id": "qBn_GG00DymI",
        "outputId": "c8204003-bed1-45e8-fa48-5484e1ef1f6b"
      },
      "execution_count": null,
      "outputs": [
        {
          "output_type": "execute_result",
          "data": {
            "text/plain": [
              "(1, 'math', 100, True, 'python', 'A', 3, 2.4, True, 2.4)"
            ]
          },
          "metadata": {},
          "execution_count": 14
        }
      ]
    },
    {
      "cell_type": "markdown",
      "source": [
        "## Latihan"
      ],
      "metadata": {
        "id": "762Rzf5wDI9c"
      }
    },
    {
      "cell_type": "code",
      "source": [
        "S1 = (1,\"math\",100,True,\"python\",\"A\")\n",
        "print(\"Ini adalah Tuple\", S1)\n",
        "\n",
        "#Menampilkan tipe struktur data\n",
        "type(S1)"
      ],
      "metadata": {
        "colab": {
          "base_uri": "https://localhost:8080/"
        },
        "id": "CDHyn2uXjneZ",
        "outputId": "a02faaa4-1342-4e1c-d658-f9a159e18786"
      },
      "execution_count": null,
      "outputs": [
        {
          "output_type": "stream",
          "name": "stdout",
          "text": [
            "Ini adalah Tuple (1, 'math', 100, True, 'python', 'A')\n"
          ]
        },
        {
          "output_type": "execute_result",
          "data": {
            "text/plain": [
              "tuple"
            ]
          },
          "metadata": {},
          "execution_count": 7
        }
      ]
    },
    {
      "cell_type": "code",
      "source": [
        "S2 = (3000, \"MSL\", True, 2.2,1, \"I\")\n",
        "#Menggabungkan antara Tuple1 dan Tuple2\n",
        "S3 = S1 + S2\n",
        "S3"
      ],
      "metadata": {
        "colab": {
          "base_uri": "https://localhost:8080/"
        },
        "id": "fEb7kSV2mCj0",
        "outputId": "5843b223-5522-4ba2-84a2-d3c9ee39bcc4"
      },
      "execution_count": null,
      "outputs": [
        {
          "output_type": "execute_result",
          "data": {
            "text/plain": [
              "(1, 'math', 100, True, 'python', 'A', 3000, 'MSL', True, 2.2, 1, 'I')"
            ]
          },
          "metadata": {},
          "execution_count": 8
        }
      ]
    }
  ]
}